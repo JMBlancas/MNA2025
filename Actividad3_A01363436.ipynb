{
  "nbformat": 4,
  "nbformat_minor": 0,
  "metadata": {
    "colab": {
      "provenance": [],
      "gpuType": "T4"
    },
    "kernelspec": {
      "name": "python3",
      "display_name": "Python 3"
    },
    "language_info": {
      "name": "python"
    }
  },
  "cells": [
    {
      "cell_type": "markdown",
      "source": [
        "# ACTIVIDAD 3: MODELOS DE APRENDIZAJE SUPERVISADO Y NO SUPERVISADO CON PYSPARK\n",
        "\n",
        "**Análisis de grandes volúmenes de datos**\n",
        "\n",
        "José María Blancas Ortiz\n",
        "A01363436"
      ],
      "metadata": {
        "id": "I11Qrp0d8JRN"
      }
    },
    {
      "cell_type": "markdown",
      "source": [
        "**INTRODUCCIÓN**\n",
        "\n",
        "**Aprendizaje Supervisado:** Utiliza datos etiquetados (lo que quiere decir que ya tienen asignada una categoría) para entrenar modelos para predecir una variable objetivo. Esto hace que en el entrenamiento, se reconozcan patrones de la categoría y después el modelo aprende a clasificar los nuevos valores de entrada.\n",
        "Se utiliza generalmente en problemas de clasificación o predicción.\n",
        "*   RL\n",
        "*   Árboles de decision\n",
        "*   RF\n",
        "*   SVM\n",
        "*   Etc\n",
        "\n",
        "**Aprendizaje No Supervisado:** Trabaja con datos no etiquetados para identificar patrones. La idea es que el propio modelo encuentre sus propias clasificaciones y relaciones, sin segar con etiquetas.\n",
        "Generalmente se utiliza para clusterización o reducción de dimensionalidad.\n",
        "*   K-means\n",
        "*   PCA\n",
        "*   Autoencoders\n",
        "*   Etc\n",
        "\n",
        "**PySpark tiene todos estos, y los clasifica de la siguiente manera:**\n",
        "*   Regresión: LinearRegression, DecisionTreeRegressor, RandomForestRegressor y GBTRegressor\n",
        "*   Clasificación: LogisticRegression, DecisionTreeClassifier, RandomForestClassifier, GBTClassifier, NaiveBayes y MultilayerPerceptronClassifier.\n",
        "*   Clustering: KMeans, BisectingKMeans, GaussianMixture y LDA.\n",
        "*   Reducción de dimensionalidad: PCA.\n",
        "\n"
      ],
      "metadata": {
        "id": "vlD9rvLF8J0u"
      }
    },
    {
      "cell_type": "markdown",
      "source": [
        "# Carga de Datos"
      ],
      "metadata": {
        "id": "k7iV8nL8-d3a"
      }
    },
    {
      "cell_type": "code",
      "source": [
        "!pip install -q kaggle pyspark"
      ],
      "metadata": {
        "id": "kSyc8uuo-l2n"
      },
      "execution_count": 1,
      "outputs": []
    },
    {
      "cell_type": "code",
      "source": [
        "from google.colab import files\n",
        "files.upload()"
      ],
      "metadata": {
        "colab": {
          "base_uri": "https://localhost:8080/",
          "height": 90
        },
        "id": "rwGZ-Fxa-21S",
        "outputId": "e7c2c7dc-d7b7-4a08-9e37-566f4f00c85e"
      },
      "execution_count": 2,
      "outputs": [
        {
          "output_type": "display_data",
          "data": {
            "text/plain": [
              "<IPython.core.display.HTML object>"
            ],
            "text/html": [
              "\n",
              "     <input type=\"file\" id=\"files-941d84a7-a778-4f41-a384-58b3353136f3\" name=\"files[]\" multiple disabled\n",
              "        style=\"border:none\" />\n",
              "     <output id=\"result-941d84a7-a778-4f41-a384-58b3353136f3\">\n",
              "      Upload widget is only available when the cell has been executed in the\n",
              "      current browser session. Please rerun this cell to enable.\n",
              "      </output>\n",
              "      <script>// Copyright 2017 Google LLC\n",
              "//\n",
              "// Licensed under the Apache License, Version 2.0 (the \"License\");\n",
              "// you may not use this file except in compliance with the License.\n",
              "// You may obtain a copy of the License at\n",
              "//\n",
              "//      http://www.apache.org/licenses/LICENSE-2.0\n",
              "//\n",
              "// Unless required by applicable law or agreed to in writing, software\n",
              "// distributed under the License is distributed on an \"AS IS\" BASIS,\n",
              "// WITHOUT WARRANTIES OR CONDITIONS OF ANY KIND, either express or implied.\n",
              "// See the License for the specific language governing permissions and\n",
              "// limitations under the License.\n",
              "\n",
              "/**\n",
              " * @fileoverview Helpers for google.colab Python module.\n",
              " */\n",
              "(function(scope) {\n",
              "function span(text, styleAttributes = {}) {\n",
              "  const element = document.createElement('span');\n",
              "  element.textContent = text;\n",
              "  for (const key of Object.keys(styleAttributes)) {\n",
              "    element.style[key] = styleAttributes[key];\n",
              "  }\n",
              "  return element;\n",
              "}\n",
              "\n",
              "// Max number of bytes which will be uploaded at a time.\n",
              "const MAX_PAYLOAD_SIZE = 100 * 1024;\n",
              "\n",
              "function _uploadFiles(inputId, outputId) {\n",
              "  const steps = uploadFilesStep(inputId, outputId);\n",
              "  const outputElement = document.getElementById(outputId);\n",
              "  // Cache steps on the outputElement to make it available for the next call\n",
              "  // to uploadFilesContinue from Python.\n",
              "  outputElement.steps = steps;\n",
              "\n",
              "  return _uploadFilesContinue(outputId);\n",
              "}\n",
              "\n",
              "// This is roughly an async generator (not supported in the browser yet),\n",
              "// where there are multiple asynchronous steps and the Python side is going\n",
              "// to poll for completion of each step.\n",
              "// This uses a Promise to block the python side on completion of each step,\n",
              "// then passes the result of the previous step as the input to the next step.\n",
              "function _uploadFilesContinue(outputId) {\n",
              "  const outputElement = document.getElementById(outputId);\n",
              "  const steps = outputElement.steps;\n",
              "\n",
              "  const next = steps.next(outputElement.lastPromiseValue);\n",
              "  return Promise.resolve(next.value.promise).then((value) => {\n",
              "    // Cache the last promise value to make it available to the next\n",
              "    // step of the generator.\n",
              "    outputElement.lastPromiseValue = value;\n",
              "    return next.value.response;\n",
              "  });\n",
              "}\n",
              "\n",
              "/**\n",
              " * Generator function which is called between each async step of the upload\n",
              " * process.\n",
              " * @param {string} inputId Element ID of the input file picker element.\n",
              " * @param {string} outputId Element ID of the output display.\n",
              " * @return {!Iterable<!Object>} Iterable of next steps.\n",
              " */\n",
              "function* uploadFilesStep(inputId, outputId) {\n",
              "  const inputElement = document.getElementById(inputId);\n",
              "  inputElement.disabled = false;\n",
              "\n",
              "  const outputElement = document.getElementById(outputId);\n",
              "  outputElement.innerHTML = '';\n",
              "\n",
              "  const pickedPromise = new Promise((resolve) => {\n",
              "    inputElement.addEventListener('change', (e) => {\n",
              "      resolve(e.target.files);\n",
              "    });\n",
              "  });\n",
              "\n",
              "  const cancel = document.createElement('button');\n",
              "  inputElement.parentElement.appendChild(cancel);\n",
              "  cancel.textContent = 'Cancel upload';\n",
              "  const cancelPromise = new Promise((resolve) => {\n",
              "    cancel.onclick = () => {\n",
              "      resolve(null);\n",
              "    };\n",
              "  });\n",
              "\n",
              "  // Wait for the user to pick the files.\n",
              "  const files = yield {\n",
              "    promise: Promise.race([pickedPromise, cancelPromise]),\n",
              "    response: {\n",
              "      action: 'starting',\n",
              "    }\n",
              "  };\n",
              "\n",
              "  cancel.remove();\n",
              "\n",
              "  // Disable the input element since further picks are not allowed.\n",
              "  inputElement.disabled = true;\n",
              "\n",
              "  if (!files) {\n",
              "    return {\n",
              "      response: {\n",
              "        action: 'complete',\n",
              "      }\n",
              "    };\n",
              "  }\n",
              "\n",
              "  for (const file of files) {\n",
              "    const li = document.createElement('li');\n",
              "    li.append(span(file.name, {fontWeight: 'bold'}));\n",
              "    li.append(span(\n",
              "        `(${file.type || 'n/a'}) - ${file.size} bytes, ` +\n",
              "        `last modified: ${\n",
              "            file.lastModifiedDate ? file.lastModifiedDate.toLocaleDateString() :\n",
              "                                    'n/a'} - `));\n",
              "    const percent = span('0% done');\n",
              "    li.appendChild(percent);\n",
              "\n",
              "    outputElement.appendChild(li);\n",
              "\n",
              "    const fileDataPromise = new Promise((resolve) => {\n",
              "      const reader = new FileReader();\n",
              "      reader.onload = (e) => {\n",
              "        resolve(e.target.result);\n",
              "      };\n",
              "      reader.readAsArrayBuffer(file);\n",
              "    });\n",
              "    // Wait for the data to be ready.\n",
              "    let fileData = yield {\n",
              "      promise: fileDataPromise,\n",
              "      response: {\n",
              "        action: 'continue',\n",
              "      }\n",
              "    };\n",
              "\n",
              "    // Use a chunked sending to avoid message size limits. See b/62115660.\n",
              "    let position = 0;\n",
              "    do {\n",
              "      const length = Math.min(fileData.byteLength - position, MAX_PAYLOAD_SIZE);\n",
              "      const chunk = new Uint8Array(fileData, position, length);\n",
              "      position += length;\n",
              "\n",
              "      const base64 = btoa(String.fromCharCode.apply(null, chunk));\n",
              "      yield {\n",
              "        response: {\n",
              "          action: 'append',\n",
              "          file: file.name,\n",
              "          data: base64,\n",
              "        },\n",
              "      };\n",
              "\n",
              "      let percentDone = fileData.byteLength === 0 ?\n",
              "          100 :\n",
              "          Math.round((position / fileData.byteLength) * 100);\n",
              "      percent.textContent = `${percentDone}% done`;\n",
              "\n",
              "    } while (position < fileData.byteLength);\n",
              "  }\n",
              "\n",
              "  // All done.\n",
              "  yield {\n",
              "    response: {\n",
              "      action: 'complete',\n",
              "    }\n",
              "  };\n",
              "}\n",
              "\n",
              "scope.google = scope.google || {};\n",
              "scope.google.colab = scope.google.colab || {};\n",
              "scope.google.colab._files = {\n",
              "  _uploadFiles,\n",
              "  _uploadFilesContinue,\n",
              "};\n",
              "})(self);\n",
              "</script> "
            ]
          },
          "metadata": {}
        },
        {
          "output_type": "stream",
          "name": "stdout",
          "text": [
            "Saving kaggle.json to kaggle.json\n"
          ]
        },
        {
          "output_type": "execute_result",
          "data": {
            "text/plain": [
              "{'kaggle.json': b'{\"username\":\"josmarablancasortiz\",\"key\":\"17b699eb45f360a1dcea3f14aadd1423\"}'}"
            ]
          },
          "metadata": {},
          "execution_count": 2
        }
      ]
    },
    {
      "cell_type": "code",
      "source": [
        "!mkdir -p ~/.kaggle\n",
        "!cp kaggle.json ~/.kaggle/\n",
        "!chmod 600 ~/.kaggle/kaggle.json"
      ],
      "metadata": {
        "id": "XbWiWkRUGqhL"
      },
      "execution_count": 3,
      "outputs": []
    },
    {
      "cell_type": "code",
      "source": [
        "!kaggle datasets download -d jakewright/9000-tickers-of-stock-market-data-full-history"
      ],
      "metadata": {
        "colab": {
          "base_uri": "https://localhost:8080/"
        },
        "id": "kA8taCLuGtu9",
        "outputId": "c214c381-8212-416d-c9a2-5182d907ec40"
      },
      "execution_count": 4,
      "outputs": [
        {
          "output_type": "stream",
          "name": "stdout",
          "text": [
            "Dataset URL: https://www.kaggle.com/datasets/jakewright/9000-tickers-of-stock-market-data-full-history\n",
            "License(s): other\n",
            "Downloading 9000-tickers-of-stock-market-data-full-history.zip to /content\n",
            " 98% 1.75G/1.79G [00:17<00:00, 220MB/s]\n",
            "100% 1.79G/1.79G [00:17<00:00, 111MB/s]\n"
          ]
        }
      ]
    },
    {
      "cell_type": "code",
      "source": [
        "!unzip 9000-tickers-of-stock-market-data-full-history.zip -d stock_data\n",
        "!ls stock_data | head -20"
      ],
      "metadata": {
        "colab": {
          "base_uri": "https://localhost:8080/"
        },
        "id": "5gsNDVkOG5Az",
        "outputId": "4fe84d34-8438-4d55-8ad2-948b94dbc0e8"
      },
      "execution_count": 5,
      "outputs": [
        {
          "output_type": "stream",
          "name": "stdout",
          "text": [
            "Archive:  9000-tickers-of-stock-market-data-full-history.zip\n",
            "  inflating: stock_data/all_stock_data.csv  \n",
            "  inflating: stock_data/all_stock_data.parquet  \n",
            "all_stock_data.csv\n",
            "all_stock_data.parquet\n"
          ]
        }
      ]
    },
    {
      "cell_type": "code",
      "source": [
        "from pyspark.sql import SparkSession\n",
        "\n",
        "spark = SparkSession.builder.appName(\"KaggleData\").getOrCreate()"
      ],
      "metadata": {
        "id": "yEgMh8q2HtB_"
      },
      "execution_count": 6,
      "outputs": []
    },
    {
      "cell_type": "code",
      "source": [
        "df = spark.read.csv(\"stock_data/all_stock_data.csv\", header=True, inferSchema=True)\n",
        "df.show(5)"
      ],
      "metadata": {
        "id": "Ox6CTdqPH9GM",
        "colab": {
          "base_uri": "https://localhost:8080/"
        },
        "outputId": "9a17537d-eb79-422c-972c-6a503bee8c2f"
      },
      "execution_count": 7,
      "outputs": [
        {
          "output_type": "stream",
          "name": "stdout",
          "text": [
            "+----------+------+----+-------------------+-------------------+-------------------+---------+---------+------------+\n",
            "|      Date|Ticker|Open|               High|                Low|              Close|   Volume|Dividends|Stock Splits|\n",
            "+----------+------+----+-------------------+-------------------+-------------------+---------+---------+------------+\n",
            "|1962-01-02|    ED| 0.0| 0.2658275556233194|0.26178762316703796|0.26178762316703796|  25600.0|      0.0|         0.0|\n",
            "|1962-01-02|   CVX| 0.0|0.04680890217423439|0.04606926600933256|0.04680890217423439| 105840.0|      0.0|         0.0|\n",
            "|1962-01-02|    GD| 0.0|0.21003275954390174|0.20306070787008793| 0.2082897424697876|2648000.0|      0.0|         0.0|\n",
            "|1962-01-02|    BP| 0.0|0.14143933090345925|0.13952797651290894|0.13952797651290894|  77440.0|      0.0|         0.0|\n",
            "|1962-01-02|   MSI| 0.0| 0.7649229763450202| 0.7452535214492476| 0.7518101930618286|  65671.0|      0.0|         0.0|\n",
            "+----------+------+----+-------------------+-------------------+-------------------+---------+---------+------------+\n",
            "only showing top 5 rows\n",
            "\n"
          ]
        }
      ]
    },
    {
      "cell_type": "markdown",
      "source": [
        "### Muestreo y Preprocesamiento\n",
        "\n",
        "En esta parte, tal y como lo hicimos en la actividad pasada, no solo quitamos outliers y registros nulos de toda la base, sino que también generamos particiones a través de combinaciones de volumen y precios. Esto nos permite \"saltarnos\" una limpieza adicional en el muestreo y pasar directo a unir datos y continuar con los modelos."
      ],
      "metadata": {
        "id": "I6p9yyhHKq17"
      }
    },
    {
      "cell_type": "code",
      "source": [
        "from pyspark.sql.functions import col\n",
        "\n",
        "df = df.withColumn(\"Stock Splits\", col(\"Stock Splits\").cast(\"double\"))"
      ],
      "metadata": {
        "id": "Cft_UKwxZOo2"
      },
      "execution_count": 8,
      "outputs": []
    },
    {
      "cell_type": "code",
      "source": [
        "df = df.na.drop(subset=[\"Close\", \"Volume\", \"Dividends\", \"Stock Splits\"])"
      ],
      "metadata": {
        "id": "rfnutGsNZPVa"
      },
      "execution_count": 9,
      "outputs": []
    },
    {
      "cell_type": "code",
      "source": [
        "from pyspark.sql.functions import isnan, when, count\n",
        "\n",
        "numeric_cols = [c for c, dtype in df.dtypes if dtype in ['double', 'float', 'int']]\n",
        "\n",
        "df.select([count(when(isnan(c) | col(c).isNull(), c)).alias(c) for c in numeric_cols]).show()"
      ],
      "metadata": {
        "colab": {
          "base_uri": "https://localhost:8080/"
        },
        "id": "0JFmrMMXZRuo",
        "outputId": "f5328345-351c-40b7-8c64-364f799489f9"
      },
      "execution_count": 10,
      "outputs": [
        {
          "output_type": "stream",
          "name": "stdout",
          "text": [
            "+----+----+---+-----+------+---------+------------+\n",
            "|Open|High|Low|Close|Volume|Dividends|Stock Splits|\n",
            "+----+----+---+-----+------+---------+------------+\n",
            "|   3|   3|  3|    0|     0|        0|           0|\n",
            "+----+----+---+-----+------+---------+------------+\n",
            "\n"
          ]
        }
      ]
    },
    {
      "cell_type": "code",
      "source": [
        "df.describe(\"Close\", \"Volume\", \"Dividends\", \"Stock Splits\").show()"
      ],
      "metadata": {
        "colab": {
          "base_uri": "https://localhost:8080/"
        },
        "id": "4B7Bd_UsZUWR",
        "outputId": "d61f50ae-154e-437a-a619-9e090b8939d5"
      },
      "execution_count": 11,
      "outputs": [
        {
          "output_type": "stream",
          "name": "stdout",
          "text": [
            "+-------+--------------------+--------------------+--------------------+------------+\n",
            "|summary|               Close|              Volume|           Dividends|Stock Splits|\n",
            "+-------+--------------------+--------------------+--------------------+------------+\n",
            "|  count|            34646152|            34646152|            34646152|    34646152|\n",
            "|   mean|1.115048747180934...|  1339233.9657774116|0.003979243062109...|    Infinity|\n",
            "| stddev| 3.95473476978514E25|1.5671722641516324E7|   1.603518382769459|         NaN|\n",
            "|    min|-8.21004442335131...|                 0.0|                 0.0|         0.0|\n",
            "|    max|1.507289774427978...|          9.230856E9|              4500.0|    Infinity|\n",
            "+-------+--------------------+--------------------+--------------------+------------+\n",
            "\n"
          ]
        }
      ]
    },
    {
      "cell_type": "code",
      "source": [
        "columnas = [\"Close\", \"Volume\", \"Dividends\", \"Stock Splits\"]\n",
        "qs = [0.25, 0.5, 0.75]\n",
        "\n",
        "percentiles = {}\n",
        "for col in columnas:\n",
        "    percentiles[col] = df.approxQuantile(col, qs, 0.01)"
      ],
      "metadata": {
        "id": "hYhcnj6LZXFH"
      },
      "execution_count": 12,
      "outputs": []
    },
    {
      "cell_type": "code",
      "source": [
        "for col in percentiles:\n",
        "    print(f\"Percentiles para la columna '{col}':\")\n",
        "    print(f\"Q1 = {percentiles[col][0]}, Q2 = {percentiles[col][1]}, Q3 = {percentiles[col][2]}\")\n",
        "    print()"
      ],
      "metadata": {
        "colab": {
          "base_uri": "https://localhost:8080/"
        },
        "id": "vsAhdbe4ZZsa",
        "outputId": "cbf8cea3-ed04-41ba-c6ba-84d118d190ad"
      },
      "execution_count": 13,
      "outputs": [
        {
          "output_type": "stream",
          "name": "stdout",
          "text": [
            "Percentiles para la columna 'Close':\n",
            "Q1 = 3.2948734760284424, Q2 = 10.808192253112793, Q3 = 27.760000228881836\n",
            "\n",
            "Percentiles para la columna 'Volume':\n",
            "Q1 = 2600.0, Q2 = 52700.0, Q3 = 420300.0\n",
            "\n",
            "Percentiles para la columna 'Dividends':\n",
            "Q1 = 0.0, Q2 = 0.0, Q3 = 0.0\n",
            "\n",
            "Percentiles para la columna 'Stock Splits':\n",
            "Q1 = 0.0, Q2 = 0.0, Q3 = 0.0\n",
            "\n"
          ]
        }
      ]
    },
    {
      "cell_type": "code",
      "source": [
        "from pyspark.sql.functions import col\n",
        "\n",
        "Q1Close, _, Q3Close = percentiles[\"Close\"]\n",
        "IQRClose = Q3Close - Q1Close\n",
        "LowClose = Q1Close - 1.5 * IQRClose\n",
        "HighClose = Q3Close + 1.5 * IQRClose\n",
        "\n",
        "Q1Volume, _, Q3Volume = percentiles[\"Volume\"]\n",
        "IQRVolume = Q3Volume - Q1Volume\n",
        "LowVolume = Q1Volume - 1.5 * IQRVolume\n",
        "HighVolume = Q3Volume + 1.5 * IQRVolume\n",
        "\n",
        "nooutliersdf = df.filter((col(\"Close\") >= LowClose) & (col(\"Close\") <= HighClose) &(col(\"Volume\") >= LowVolume) & (col(\"Volume\") <= HighVolume))"
      ],
      "metadata": {
        "id": "Hc8T3LC6Zfyq"
      },
      "execution_count": 14,
      "outputs": []
    },
    {
      "cell_type": "code",
      "source": [
        "nooutliersdf.describe(\"Close\", \"Volume\").show()"
      ],
      "metadata": {
        "colab": {
          "base_uri": "https://localhost:8080/"
        },
        "id": "0wmz0GZJZguU",
        "outputId": "185c7033-638f-4d96-a34f-528f062483b2"
      },
      "execution_count": 15,
      "outputs": [
        {
          "output_type": "stream",
          "name": "stdout",
          "text": [
            "+-------+------------------+------------------+\n",
            "|summary|             Close|            Volume|\n",
            "+-------+------------------+------------------+\n",
            "|  count|          25756757|          25756757|\n",
            "|   mean|12.639581447841836|138584.14815056103|\n",
            "| stddev| 13.65059090561122|223930.60922598085|\n",
            "|    min|-33.37889099121094|               0.0|\n",
            "|    max|  64.4576416015625|         1046850.0|\n",
            "+-------+------------------+------------------+\n",
            "\n"
          ]
        }
      ]
    },
    {
      "cell_type": "code",
      "source": [
        "C1 = nooutliersdf.filter(col(\"Close\") < 5).count()\n",
        "C2 = nooutliersdf.filter((col(\"Close\") >= 5) & (col(\"Close\") <= 25)).count()\n",
        "C3 = nooutliersdf.filter(col(\"Close\") > 25).count()                                                              # Quitamos outliers y calculamos probabilidades de las variables C (posteriormente hacemos lo mismo con V y D)\n",
        "\n",
        "print(\"Probabilidad C1 =\", C1 / (C1 + C2 + C3))\n",
        "print(\"Probabilidad C2 =\", C2 / (C1 + C2 + C3))\n",
        "print(\"Probabilidad C3 =\", C3 / (C1 + C2 + C3))"
      ],
      "metadata": {
        "colab": {
          "base_uri": "https://localhost:8080/"
        },
        "id": "IjfNMZt3Zmae",
        "outputId": "d6a9b9e9-2f61-4816-c737-f4b2628059f9"
      },
      "execution_count": 16,
      "outputs": [
        {
          "output_type": "stream",
          "name": "stdout",
          "text": [
            "Probabilidad C1 = 0.38309457980288436\n",
            "Probabilidad C2 = 0.4578938256862073\n",
            "Probabilidad C3 = 0.15901159451090835\n"
          ]
        }
      ]
    },
    {
      "cell_type": "code",
      "source": [
        "V1 = nooutliersdf.filter(col(\"Volume\") >=100000).count()\n",
        "V2 = nooutliersdf.filter(col(\"Volume\") < 100000).count()\n",
        "\n",
        "print(\"Probabilidad V1 =\", V1 / (V1 + V2))\n",
        "print(\"Probabilidad V2 =\", V2 / (V1 + V2))"
      ],
      "metadata": {
        "colab": {
          "base_uri": "https://localhost:8080/"
        },
        "id": "eoUfU-g2ZqO5",
        "outputId": "3ca4d4fe-1d62-4771-f54a-9b0bf181db00"
      },
      "execution_count": 17,
      "outputs": [
        {
          "output_type": "stream",
          "name": "stdout",
          "text": [
            "Probabilidad V1 = 0.32900232742809976\n",
            "Probabilidad V2 = 0.6709976725719002\n"
          ]
        }
      ]
    },
    {
      "cell_type": "code",
      "source": [
        "D1 = nooutliersdf.filter(col(\"Dividends\") == 0).count()\n",
        "D2 = nooutliersdf.filter(col(\"Dividends\") > 0).count()\n",
        "\n",
        "print(\"Probabilidad D1 =\", D1 / (D1 + D2))\n",
        "print(\"Probabilidad D2 =\", D2 / (D1 + D2))"
      ],
      "metadata": {
        "colab": {
          "base_uri": "https://localhost:8080/"
        },
        "id": "5fRToCGXZrRU",
        "outputId": "f8721953-f092-4485-a93a-d4bb495fe18d"
      },
      "execution_count": 18,
      "outputs": [
        {
          "output_type": "stream",
          "name": "stdout",
          "text": [
            "Probabilidad D1 = 0.9927325089878357\n",
            "Probabilidad D2 = 0.0072674910121643035\n"
          ]
        }
      ]
    },
    {
      "cell_type": "code",
      "source": [
        "C1V1 = nooutliersdf.filter((col(\"Close\")  < 5) & (col(\"Volume\") >=100000))                                                                  # Generamos las combinaciones correspondientes y se generan las particiones\n",
        "C1V1.show()"
      ],
      "metadata": {
        "colab": {
          "base_uri": "https://localhost:8080/"
        },
        "id": "nhz1BgtpZu8_",
        "outputId": "d47f9b26-28dc-470b-a028-f859df2edbfb"
      },
      "execution_count": 19,
      "outputs": [
        {
          "output_type": "stream",
          "name": "stdout",
          "text": [
            "+----------+------+--------------------+--------------------+--------------------+--------------------+--------+---------+------------+\n",
            "|      Date|Ticker|                Open|                High|                 Low|               Close|  Volume|Dividends|Stock Splits|\n",
            "+----------+------+--------------------+--------------------+--------------------+--------------------+--------+---------+------------+\n",
            "|1962-01-02|   CVX|                 0.0| 0.04680890217423439| 0.04606926600933256| 0.04680890217423439|105840.0|      0.0|         0.0|\n",
            "|1962-01-02|   MMM|                 0.0|   0.541890852671279|  0.5259528842775644|  0.5299372673034668|254509.0|      0.0|         0.0|\n",
            "|1962-01-02|   DIS| 0.05835945904254913|  0.0603180077410653| 0.05835945904254913| 0.05835945904254913|841958.0|      0.0|         0.0|\n",
            "|1962-01-02|    MO|                 0.0| 0.00333833846261782|0.003293024608865...|0.003293024608865...|345600.0|      0.0|         0.0|\n",
            "|1962-01-02|    PG|                 0.0|  0.2749725586034827| 0.27124668804133245| 0.27273714542388916|192000.0|      0.0|         0.0|\n",
            "|1962-01-02|    GE|  2.6095722714128895|  2.6530648102552266|  2.5834764822291847|  2.6008732318878174|432682.0|      0.0|         0.0|\n",
            "|1962-01-02|    BA| 0.19031055781074385| 0.19031055781074385| 0.18703724443912506| 0.18703724443912506|352350.0|      0.0|         0.0|\n",
            "|1962-01-02|    KR|                 0.0|0.031310200378601695|0.030155323770468735| 0.03054029308259487|153600.0|      0.0|         0.0|\n",
            "|1962-01-02|   IBM|  1.5743495588732903|  1.5743495588732903|  1.5566600561141968|  1.5566600561141968|407940.0|      0.0|         0.0|\n",
            "|1962-01-02|   CAT| 0.13051198422908783| 0.13178320460278306|  0.1292407638553926| 0.13051198422908783|163200.0|      0.0|         0.0|\n",
            "|1962-01-02|    KO|0.004007111303508282|0.004116209094057981|0.004007111303508282|0.004007111303508282|806400.0|      0.0|         0.0|\n",
            "|1962-01-02|   MRK|                 0.0| 0.08608435432886191| 0.08524634122762473| 0.08572530001401901|633830.0|      0.0|         0.0|\n",
            "|1962-01-02|   XOM|                 0.0|  0.1015373839390559|  0.1007889360189438| 0.10078893601894379|902400.0|      0.0|         0.0|\n",
            "|1962-01-03|   IBM|  1.5566596462442635|   1.570266842842102|  1.5566596462442635|   1.570266842842102|305955.0|      0.0|         0.0|\n",
            "|1962-01-03|    PG|                 0.0|  0.2727370790512293| 0.26752075237595546| 0.26975634694099426|428800.0|      0.0|         0.0|\n",
            "|1962-01-03|   JNJ|                 0.0| 0.06706344518838142|  0.0667121484875679|  0.0667121484875679|345600.0|      0.0|         0.0|\n",
            "|1962-01-03|   MMM|                 0.0|  0.5339213609695435|   0.520971844909888|  0.5339213609695435|505190.0|      0.0|         0.0|\n",
            "|1962-01-03|   DIS|0.058359487924549334|  0.0593387604184346|0.058359487924549334| 0.05914277955889702|801865.0|      0.0|         0.0|\n",
            "|1962-01-03|    GE|  2.5878280706306174|  2.5878280706306174|   2.566081366296228|   2.574779748916626|296467.0|      0.0|         0.0|\n",
            "|1962-01-03|   CAT|  0.1305119966965645| 0.13178321719169617| 0.12924077620143284| 0.13178321719169617|156000.0|      0.0|         0.0|\n",
            "+----------+------+--------------------+--------------------+--------------------+--------------------+--------+---------+------------+\n",
            "only showing top 20 rows\n",
            "\n"
          ]
        }
      ]
    },
    {
      "cell_type": "code",
      "source": [
        "C1V2 = nooutliersdf.filter((col(\"Close\")  < 5) & (col(\"Volume\") < 100000))\n",
        "C1V2.show()"
      ],
      "metadata": {
        "colab": {
          "base_uri": "https://localhost:8080/"
        },
        "id": "qnNfumezZxrp",
        "outputId": "3a19935f-da51-44cb-90d6-92c82295d551"
      },
      "execution_count": 20,
      "outputs": [
        {
          "output_type": "stream",
          "name": "stdout",
          "text": [
            "+----------+------+------------------+-------------------+-------------------+-------------------+-------+---------+------------+\n",
            "|      Date|Ticker|              Open|               High|                Low|              Close| Volume|Dividends|Stock Splits|\n",
            "+----------+------+------------------+-------------------+-------------------+-------------------+-------+---------+------------+\n",
            "|1962-01-02|    ED|               0.0| 0.2658275556233194|0.26178762316703796|0.26178762316703796|25600.0|      0.0|         0.0|\n",
            "|1962-01-02|    BP|               0.0|0.14143933090345925|0.13952797651290894|0.13952797651290894|77440.0|      0.0|         0.0|\n",
            "|1962-01-02|   MSI|               0.0| 0.7649229763450202| 0.7452535214492476| 0.7518101930618286|65671.0|      0.0|         0.0|\n",
            "|1962-01-02|   HON|               0.0| 1.5596422972915405|  1.549127912225958| 1.5561375617980957|40740.0|      0.0|         0.0|\n",
            "|1962-01-02|    FL|               0.0| 0.9722493028732154| 0.9538055893643659| 0.9590751528739929|49200.0|      0.0|         0.0|\n",
            "|1962-01-02|    GT|               0.0| 1.9469001299879525| 1.9142705188708358| 1.9360235929489136|32000.0|      0.0|         0.0|\n",
            "|1962-01-02|   JNJ|               0.0| 0.0677657350897789|0.06741443839221611| 0.0677657350897789|    0.0|      0.0|         0.0|\n",
            "|1962-01-02|   XRX|               0.0| 1.0117952124550889| 0.9992262318347459| 1.0055105686187744|51233.0|      0.0|         0.0|\n",
            "|1962-01-02|   CNP|               0.0|0.31389233720884596| 0.3115246295928955| 0.3115246295928955|13879.0|      0.0|         0.0|\n",
            "|1962-01-02|    AA|               0.0| 1.5505479006670275| 1.5417044162750244| 1.5417044162750244|55930.0|      0.0|         0.0|\n",
            "|1962-01-02|   AEP|               0.0| 0.9997236014281031|   0.97659832239151|   0.97659832239151| 5800.0|      0.0|         0.0|\n",
            "|1962-01-02|   DTE|               0.0|0.39185275952051335| 0.3878624141216278| 0.3878624141216278| 1880.0|      0.0|         0.0|\n",
            "|1962-01-02|    IP|               0.0| 0.9030301539559435| 0.8819594383239746| 0.8819594383239746|51552.0|      0.0|         0.0|\n",
            "|1962-01-02|   MRO|               0.0|0.41745506124276033| 0.4123796360272837| 0.4149174094200134|84139.0|      0.0|         0.0|\n",
            "|1962-01-03|   XRX|               0.0|   1.02436363697052| 1.0117949664582726|   1.02436363697052|51233.0|      0.0|         0.0|\n",
            "|1962-01-03|    FL|               0.0| 0.9524882120390734|  0.948535978794098| 0.9485359787940979|31200.0|      0.0|         0.0|\n",
            "|1962-01-03|   CNP|               0.0|0.31152445657182065|0.30848026275634766|0.30848026275634766|25623.0|      0.0|         0.0|\n",
            "|1962-01-03|    AA|1.5417026753981868|  1.565285086631775| 1.5387547757231785|  1.565285086631775|74906.0|      0.0|         0.0|\n",
            "|1962-01-03|    GT|               0.0| 1.9305855682918005| 1.9033942222595217| 1.9033942222595215|28000.0|      0.0|         0.0|\n",
            "|1962-01-03|    BP|               0.0| 0.1414393186569214|0.14016501977023957| 0.1414393186569214|85184.0|      0.0|         0.0|\n",
            "+----------+------+------------------+-------------------+-------------------+-------------------+-------+---------+------------+\n",
            "only showing top 20 rows\n",
            "\n"
          ]
        }
      ]
    },
    {
      "cell_type": "code",
      "source": [
        "C1D1 = nooutliersdf.filter((col(\"Close\")  < 5) & (col(\"Dividends\") == 0))\n",
        "C1D1.show()"
      ],
      "metadata": {
        "colab": {
          "base_uri": "https://localhost:8080/"
        },
        "id": "iWQwid5pZz8-",
        "outputId": "0c78f221-07be-4d82-dd73-cc8982d24e91"
      },
      "execution_count": 21,
      "outputs": [
        {
          "output_type": "stream",
          "name": "stdout",
          "text": [
            "+----------+------+-------------------+--------------------+--------------------+--------------------+--------+---------+------------+\n",
            "|      Date|Ticker|               Open|                High|                 Low|               Close|  Volume|Dividends|Stock Splits|\n",
            "+----------+------+-------------------+--------------------+--------------------+--------------------+--------+---------+------------+\n",
            "|1962-01-02|    ED|                0.0|  0.2658275556233194| 0.26178762316703796| 0.26178762316703796| 25600.0|      0.0|         0.0|\n",
            "|1962-01-02|   CVX|                0.0| 0.04680890217423439| 0.04606926600933256| 0.04680890217423439|105840.0|      0.0|         0.0|\n",
            "|1962-01-02|    BP|                0.0| 0.14143933090345925| 0.13952797651290894| 0.13952797651290894| 77440.0|      0.0|         0.0|\n",
            "|1962-01-02|   MSI|                0.0|  0.7649229763450202|  0.7452535214492476|  0.7518101930618286| 65671.0|      0.0|         0.0|\n",
            "|1962-01-02|   HON|                0.0|  1.5596422972915405|   1.549127912225958|  1.5561375617980957| 40740.0|      0.0|         0.0|\n",
            "|1962-01-02|    FL|                0.0|  0.9722493028732154|  0.9538055893643659|  0.9590751528739929| 49200.0|      0.0|         0.0|\n",
            "|1962-01-02|    GT|                0.0|  1.9469001299879525|  1.9142705188708358|  1.9360235929489136| 32000.0|      0.0|         0.0|\n",
            "|1962-01-02|   JNJ|                0.0|  0.0677657350897789| 0.06741443839221611|  0.0677657350897789|     0.0|      0.0|         0.0|\n",
            "|1962-01-02|   MMM|                0.0|   0.541890852671279|  0.5259528842775644|  0.5299372673034668|254509.0|      0.0|         0.0|\n",
            "|1962-01-02|   DIS|0.05835945904254913|  0.0603180077410653| 0.05835945904254913| 0.05835945904254913|841958.0|      0.0|         0.0|\n",
            "|1962-01-02|   XRX|                0.0|  1.0117952124550889|  0.9992262318347459|  1.0055105686187744| 51233.0|      0.0|         0.0|\n",
            "|1962-01-02|    MO|                0.0| 0.00333833846261782|0.003293024608865...|0.003293024608865...|345600.0|      0.0|         0.0|\n",
            "|1962-01-02|   CNP|                0.0| 0.31389233720884596|  0.3115246295928955|  0.3115246295928955| 13879.0|      0.0|         0.0|\n",
            "|1962-01-02|    PG|                0.0|  0.2749725586034827| 0.27124668804133245| 0.27273714542388916|192000.0|      0.0|         0.0|\n",
            "|1962-01-02|    GE| 2.6095722714128895|  2.6530648102552266|  2.5834764822291847|  2.6008732318878174|432682.0|      0.0|         0.0|\n",
            "|1962-01-02|    AA|                0.0|  1.5505479006670275|  1.5417044162750244|  1.5417044162750244| 55930.0|      0.0|         0.0|\n",
            "|1962-01-02|    BA|0.19031055781074385| 0.19031055781074385| 0.18703724443912506| 0.18703724443912506|352350.0|      0.0|         0.0|\n",
            "|1962-01-02|   AEP|                0.0|  0.9997236014281031|    0.97659832239151|    0.97659832239151|  5800.0|      0.0|         0.0|\n",
            "|1962-01-02|    KR|                0.0|0.031310200378601695|0.030155323770468735| 0.03054029308259487|153600.0|      0.0|         0.0|\n",
            "|1962-01-02|   DTE|                0.0| 0.39185275952051335|  0.3878624141216278|  0.3878624141216278|  1880.0|      0.0|         0.0|\n",
            "+----------+------+-------------------+--------------------+--------------------+--------------------+--------+---------+------------+\n",
            "only showing top 20 rows\n",
            "\n"
          ]
        }
      ]
    },
    {
      "cell_type": "code",
      "source": [
        "C1D2 = nooutliersdf.filter((col(\"Close\")  < 5) & (col(\"Dividends\") > 0))\n",
        "C1D2.show()"
      ],
      "metadata": {
        "colab": {
          "base_uri": "https://localhost:8080/"
        },
        "id": "sH1s8xUAZ2Gi",
        "outputId": "a76ff78b-dc1e-4e46-c65b-ef35c90134da"
      },
      "execution_count": 22,
      "outputs": [
        {
          "output_type": "stream",
          "name": "stdout",
          "text": [
            "+----------+------+--------------------+--------------------+--------------------+--------------------+--------+---------+------------+\n",
            "|      Date|Ticker|                Open|                High|                 Low|               Close|  Volume|Dividends|Stock Splits|\n",
            "+----------+------+--------------------+--------------------+--------------------+--------------------+--------+---------+------------+\n",
            "|1962-01-16|   CAT| 0.13898438379846487| 0.13898438379846487| 0.13727900221265876| 0.13813169300556183|163200.0|  0.01042|         0.0|\n",
            "|1962-01-16|    PG|                 0.0| 0.25896285513980793|  0.2559690659631997|  0.2574658691883087|236800.0|  0.00586|         0.0|\n",
            "|1962-01-29|    FL|                 0.0|  0.8984163061371896|  0.8811646699905397|  0.8811646699905396| 30000.0|  0.05208|         0.0|\n",
            "|1962-01-30|    ED|                 0.0| 0.25213567951282895|  0.2513197064399719|  0.2513197064399719| 40800.0|  0.09375|         0.0|\n",
            "|1962-01-31|   CVX|                 0.0| 0.04681572589458939| 0.04574930228332603|0.046175871044397354|226800.0|  0.02976|         0.0|\n",
            "|1962-02-05|    BA| 0.20855923195732787| 0.20855923195732787| 0.20478437911898212| 0.20525632798671722|893025.0|  0.00823|         0.0|\n",
            "|1962-02-06|   IBM|  1.4997241316491243|  1.5024459194744597|  1.4942804541808636|  1.5010849237442017|274575.0|    0.001|         0.0|\n",
            "|1962-02-06|    AA|  1.4013793992556496|  1.4013793992556496|  1.3806400771288425|   1.392491102218628| 40949.0|  0.03004|         0.0|\n",
            "|1962-02-09|    GT|                 0.0|  1.9405069106664414|  1.9131758274176183|  1.9186420440673828| 26400.0|  0.05625|         0.0|\n",
            "|1962-02-13|   JNJ|                 0.0| 0.07426206147841893|  0.0733820331917661| 0.07355809956789017|734400.0|   5.8E-4|         0.0|\n",
            "|1962-02-20|    IP|                 0.0|  0.9038413166999817|  0.8765440502671659|  0.9038413166999817| 62911.0|  0.06357|         0.0|\n",
            "|1962-03-13|   DIS|0.060867423645003756|0.061849240213632584|0.060867423645003756|0.061849240213632584|360839.0|   2.5E-4|         0.0|\n",
            "|1962-03-13|    GE|  2.7305014356336184|  2.7305014356336184|  2.7000174837398028|  2.7174365520477295|258407.0|  0.00501|         0.0|\n",
            "|1962-03-26|   DTE|                 0.0| 0.38500698779144105| 0.38339608907699585| 0.38339608907699585|  2820.0|  0.23404|         0.0|\n",
            "|1962-04-16|   CAT| 0.13259243900518197| 0.13259243900518197| 0.12787229362700323|  0.1295887529850006|129600.0|  0.01042|         0.0|\n",
            "|1962-04-16|    PG|                 0.0| 0.25223176029532657| 0.25035217032249457| 0.25110411643981934|288000.0|  0.00586|         0.0|\n",
            "|1962-04-26|    FL|                 0.0|  0.8268306615329024|  0.8107756972312927|  0.8107756972312927| 31200.0|  0.05208|         0.0|\n",
            "|1962-05-01|    ED|                 0.0|   0.256211495014929| 0.24797318327811455| 0.25538766384124756| 48000.0|  0.09375|         0.0|\n",
            "|1962-05-07|   CVX|                 0.0| 0.05193804065790775| 0.05150791015191521| 0.05161545053124428|129360.0|  0.02976|         0.0|\n",
            "|1962-05-08|    BA| 0.17883749994413814| 0.17883749994413814| 0.17263779044151306| 0.17263779044151306|674325.0|  0.00823|         0.0|\n",
            "+----------+------+--------------------+--------------------+--------------------+--------------------+--------+---------+------------+\n",
            "only showing top 20 rows\n",
            "\n"
          ]
        }
      ]
    },
    {
      "cell_type": "code",
      "source": [
        "C2V1 = nooutliersdf.filter(((col(\"Close\") >= 5) & (col(\"Close\") <= 25)) & (col(\"Volume\") >=100000))\n",
        "C2V1.show()"
      ],
      "metadata": {
        "colab": {
          "base_uri": "https://localhost:8080/"
        },
        "id": "THKmjiPDZ4Uu",
        "outputId": "38f09e54-e8b6-43c0-ce96-4fdda0713b35"
      },
      "execution_count": 23,
      "outputs": [
        {
          "output_type": "stream",
          "name": "stdout",
          "text": [
            "+----------+------+----+------------------+------------------+------------------+--------+---------+------------+\n",
            "|      Date|Ticker|Open|              High|               Low|             Close|  Volume|Dividends|Stock Splits|\n",
            "+----------+------+----+------------------+------------------+------------------+--------+---------+------------+\n",
            "|1965-08-04|   XRX| 0.0|5.0746825399590785|5.0039827855817425|5.0471882820129395|202881.0|      0.0|         0.0|\n",
            "|1965-08-05|   XRX| 0.0|5.0550435254915405|5.0196932415279045| 5.043260097503662|137986.0|      0.0|         0.0|\n",
            "|1965-08-06|   XRX| 0.0| 5.145384788513184| 5.039335105540595| 5.145384788513184|165310.0|      0.0|         0.0|\n",
            "|1965-08-09|   XRX| 0.0| 5.216085575683452| 5.129674121771667| 5.141457557678223|143451.0|      0.0|         0.0|\n",
            "|1965-08-10|   XRX| 0.0|  5.19251776235102|  5.08254027537341| 5.176806926727295|117493.0|      0.0|         0.0|\n",
            "|1965-08-11|   XRX| 0.0| 5.239653215683643| 5.208231122273801| 5.235725402832031|110662.0|      0.0|         0.0|\n",
            "|1965-08-12|   XRX| 0.0| 5.247511572871274| 5.165028278858548| 5.208233833312988|101782.0|      0.0|         0.0|\n",
            "|1965-08-13|   XRX| 0.0| 5.243581679448703| 5.172881858149456|5.2317986488342285|121592.0|      0.0|         0.0|\n",
            "|1965-08-16|   XRX| 0.0|  5.24357910381655| 5.184662342071533| 5.184662342071533|111345.0|      0.0|         0.0|\n",
            "|1965-08-17|   XRX| 0.0| 5.282858953904622|5.1807366345817085| 5.278931140899658|146867.0|      0.0|         0.0|\n",
            "|1965-08-18|   XRX| 0.0| 5.302497609526372| 5.271075514889732| 5.278931140899658|148233.0|      0.0|         0.0|\n",
            "|1965-08-19|   XRX| 0.0|  5.27892915216241| 5.145384788513184| 5.145384788513184|217909.0|      0.0|         0.0|\n",
            "|1965-08-20|   XRX| 0.0|5.1257448620873705|5.0786119505792815| 5.090394973754883|104514.0|      0.0|         0.0|\n",
            "|1965-08-24|   XRX| 0.0| 5.212157457582756| 5.168951937865983| 5.204301834106445|140036.0|      0.0|         0.0|\n",
            "|1965-08-25|   XRX| 0.0| 5.337848556023937|5.2043041263164795| 5.306426048278809|149599.0|      0.0|         0.0|\n",
            "|1965-08-26|   XRX| 0.0| 5.341775420527743|5.2828586383752825| 5.290714263916016|115444.0|      0.0|         0.0|\n",
            "|1965-08-30|   XRX| 0.0| 5.369266444036669|  5.31820531839371| 5.353555202484131|104514.0|      0.0|         0.0|\n",
            "|1965-08-31|   XRX| 0.0|5.3731972312200105|  5.34177514010963| 5.349630355834961|105881.0|      0.0|         0.0|\n",
            "|1965-09-02|   XRX| 0.0|5.3731972312200105|5.3260638898529304| 5.349630355834961|107247.0|      0.0|         0.0|\n",
            "|1965-09-03|   XRX| 0.0|5.3771250437841855|  5.29464179874255| 5.349630355834961|153698.0|      0.0|         0.0|\n",
            "+----------+------+----+------------------+------------------+------------------+--------+---------+------------+\n",
            "only showing top 20 rows\n",
            "\n"
          ]
        }
      ]
    },
    {
      "cell_type": "code",
      "source": [
        "C2V2 = nooutliersdf.filter(((col(\"Close\") >= 5) & (col(\"Close\") <= 25)) & (col(\"Volume\") < 100000))\n",
        "C2V2.show()"
      ],
      "metadata": {
        "colab": {
          "base_uri": "https://localhost:8080/"
        },
        "id": "zZarXsyOZ7Hi",
        "outputId": "80122085-9010-4857-ba93-6471248c9413"
      },
      "execution_count": 24,
      "outputs": [
        {
          "output_type": "stream",
          "name": "stdout",
          "text": [
            "+----------+------+----+------------------+------------------+------------------+-------+---------+------------+\n",
            "|      Date|Ticker|Open|              High|               Low|             Close| Volume|Dividends|Stock Splits|\n",
            "+----------+------+----+------------------+------------------+------------------+-------+---------+------------+\n",
            "|1965-08-23|   XRX| 0.0| 5.168952241460186| 5.098252035423808| 5.141457557678223|79240.0|      0.0|         0.0|\n",
            "|1965-08-27|   XRX| 0.0| 5.326065009510483|5.2828594716248105| 5.310353755950928|68993.0|      0.0|         0.0|\n",
            "|1965-09-01|   XRX| 0.0|5.3378518490104465| 5.310357137771633|  5.32606840133667|60113.0|      0.0|         0.0|\n",
            "|1965-09-17|   XRX| 0.0| 5.805254102958754| 5.726698649050873|  5.78561544418335|81289.0|      0.0|         0.0|\n",
            "|1965-09-20|   XRX| 0.0| 5.797400111985117| 5.726699860983337| 5.758121967315674|68993.0|      0.0|         0.0|\n",
            "|1965-09-21|   XRX| 0.0| 5.781684848353557| 5.695273399353027| 5.695273399353027|62845.0|      0.0|         0.0|\n",
            "|1965-09-22|   XRX| 0.0| 5.742412510381835| 5.608868014354197| 5.612795829772949|75824.0|      0.0|         0.0|\n",
            "|1965-10-05|   XRX| 0.0| 5.604934846097585| 5.546018080486439| 5.565657138824463|97683.0|      0.0|         0.0|\n",
            "|1965-10-06|   XRX| 0.0|  5.56172567695713| 5.483169904564667|  5.52244758605957|90169.0|      0.0|         0.0|\n",
            "|1965-10-07|   XRX| 0.0| 5.546017106337523|5.5106672169411555| 5.530305862426758|45768.0|      0.0|         0.0|\n",
            "|1965-10-08|   XRX| 0.0| 5.589225874637352| 5.561731591174926|  5.58529806137085|79923.0|      0.0|         0.0|\n",
            "|1965-10-14|   XRX| 0.0| 5.970216245828537|  5.90737168760387| 5.934865951538086|71726.0|      0.0|         0.0|\n",
            "|1965-10-15|   XRX| 0.0| 5.950581842235669|5.8131095963611354|5.8563151359558105|80606.0|      0.0|         0.0|\n",
            "|1965-10-19|   XRX| 0.0| 5.950577374710101|5.8602385497993374| 5.875949382781982|66261.0|      0.0|         0.0|\n",
            "|1965-10-20|   XRX| 0.0| 5.919154686500442| 5.765971317310543| 5.797393798828125|59430.0|      0.0|         0.0|\n",
            "|1965-10-21|   XRX| 0.0|5.7895382209907185| 5.667776923020917| 5.691343784332275|70359.0|      0.0|         0.0|\n",
            "|1965-10-25|   XRX| 0.0| 5.671702736911664| 5.561725317710205| 5.589219570159912|81972.0|      0.0|         0.0|\n",
            "|1965-10-26|   XRX| 0.0|5.6324266361297095| 5.585293326293259| 5.620643615722656|57380.0|      0.0|         0.0|\n",
            "|1965-10-27|   XRX| 0.0| 5.734549637162007| 5.640283004971517|5.6442108154296875|77190.0|      0.0|         0.0|\n",
            "|1965-10-29|   XRX| 0.0| 5.561730913837906| 5.483175067477894| 5.491030693054199|43718.0|      0.0|         0.0|\n",
            "+----------+------+----+------------------+------------------+------------------+-------+---------+------------+\n",
            "only showing top 20 rows\n",
            "\n"
          ]
        }
      ]
    },
    {
      "cell_type": "code",
      "source": [
        "C2D1 = nooutliersdf.filter(((col(\"Close\") >= 5) & (col(\"Close\") <= 25)) & (col(\"Dividends\") == 0))\n",
        "C2D1.show()"
      ],
      "metadata": {
        "colab": {
          "base_uri": "https://localhost:8080/"
        },
        "id": "WRadNoO8Z9kw",
        "outputId": "bccbf2cc-0eba-497b-94f4-c976e2f00ad7"
      },
      "execution_count": 25,
      "outputs": [
        {
          "output_type": "stream",
          "name": "stdout",
          "text": [
            "+----------+------+----+------------------+------------------+------------------+--------+---------+------------+\n",
            "|      Date|Ticker|Open|              High|               Low|             Close|  Volume|Dividends|Stock Splits|\n",
            "+----------+------+----+------------------+------------------+------------------+--------+---------+------------+\n",
            "|1965-08-04|   XRX| 0.0|5.0746825399590785|5.0039827855817425|5.0471882820129395|202881.0|      0.0|         0.0|\n",
            "|1965-08-05|   XRX| 0.0|5.0550435254915405|5.0196932415279045| 5.043260097503662|137986.0|      0.0|         0.0|\n",
            "|1965-08-06|   XRX| 0.0| 5.145384788513184| 5.039335105540595| 5.145384788513184|165310.0|      0.0|         0.0|\n",
            "|1965-08-09|   XRX| 0.0| 5.216085575683452| 5.129674121771667| 5.141457557678223|143451.0|      0.0|         0.0|\n",
            "|1965-08-10|   XRX| 0.0|  5.19251776235102|  5.08254027537341| 5.176806926727295|117493.0|      0.0|         0.0|\n",
            "|1965-08-11|   XRX| 0.0| 5.239653215683643| 5.208231122273801| 5.235725402832031|110662.0|      0.0|         0.0|\n",
            "|1965-08-12|   XRX| 0.0| 5.247511572871274| 5.165028278858548| 5.208233833312988|101782.0|      0.0|         0.0|\n",
            "|1965-08-13|   XRX| 0.0| 5.243581679448703| 5.172881858149456|5.2317986488342285|121592.0|      0.0|         0.0|\n",
            "|1965-08-16|   XRX| 0.0|  5.24357910381655| 5.184662342071533| 5.184662342071533|111345.0|      0.0|         0.0|\n",
            "|1965-08-17|   XRX| 0.0| 5.282858953904622|5.1807366345817085| 5.278931140899658|146867.0|      0.0|         0.0|\n",
            "|1965-08-18|   XRX| 0.0| 5.302497609526372| 5.271075514889732| 5.278931140899658|148233.0|      0.0|         0.0|\n",
            "|1965-08-19|   XRX| 0.0|  5.27892915216241| 5.145384788513184| 5.145384788513184|217909.0|      0.0|         0.0|\n",
            "|1965-08-20|   XRX| 0.0|5.1257448620873705|5.0786119505792815| 5.090394973754883|104514.0|      0.0|         0.0|\n",
            "|1965-08-23|   XRX| 0.0| 5.168952241460186| 5.098252035423808| 5.141457557678223| 79240.0|      0.0|         0.0|\n",
            "|1965-08-24|   XRX| 0.0| 5.212157457582756| 5.168951937865983| 5.204301834106445|140036.0|      0.0|         0.0|\n",
            "|1965-08-25|   XRX| 0.0| 5.337848556023937|5.2043041263164795| 5.306426048278809|149599.0|      0.0|         0.0|\n",
            "|1965-08-26|   XRX| 0.0| 5.341775420527743|5.2828586383752825| 5.290714263916016|115444.0|      0.0|         0.0|\n",
            "|1965-08-27|   XRX| 0.0| 5.326065009510483|5.2828594716248105| 5.310353755950928| 68993.0|      0.0|         0.0|\n",
            "|1965-08-30|   XRX| 0.0| 5.369266444036669|  5.31820531839371| 5.353555202484131|104514.0|      0.0|         0.0|\n",
            "|1965-08-31|   XRX| 0.0|5.3731972312200105|  5.34177514010963| 5.349630355834961|105881.0|      0.0|         0.0|\n",
            "+----------+------+----+------------------+------------------+------------------+--------+---------+------------+\n",
            "only showing top 20 rows\n",
            "\n"
          ]
        }
      ]
    },
    {
      "cell_type": "code",
      "source": [
        "C2D2 = nooutliersdf.filter(((col(\"Close\") >= 5) & (col(\"Close\") <= 25)) & (col(\"Dividends\") > 0))\n",
        "C2D2.show()"
      ],
      "metadata": {
        "colab": {
          "base_uri": "https://localhost:8080/"
        },
        "id": "LJnwwTQYZ_5v",
        "outputId": "fcab71d8-2441-490e-f70a-67f3e448993f"
      },
      "execution_count": 26,
      "outputs": [
        {
          "output_type": "stream",
          "name": "stdout",
          "text": [
            "+----------+------+------------------+------------------+------------------+------------------+--------+---------+------------+\n",
            "|      Date|Ticker|              Open|              High|               Low|             Close|  Volume|Dividends|Stock Splits|\n",
            "+----------+------+------------------+------------------+------------------+------------------+--------+---------+------------+\n",
            "|1973-04-09|   GCO|               0.0|              11.5|            11.125|              11.5|  5600.0|     0.17|         0.0|\n",
            "|1973-04-13|   CMS|               0.0|10.100946426391602|10.010759404727391|10.100946426391602|  5800.0|      0.5|         0.0|\n",
            "|1977-01-24|    WY| 5.730135724753417| 5.730135724753417| 5.560604572296143| 5.560604572296143|181350.0|  0.13333|         0.0|\n",
            "|1977-05-02|    WY| 5.231765864142896| 5.231765864142896| 5.163599790311327| 5.214724540710449|114900.0|  0.13333|         0.0|\n",
            "|1977-08-29|   XRX|  5.19245304941591| 5.216547765892535| 5.168358332939284| 5.204500198364258|155747.0|  0.17567|         0.0|\n",
            "|1978-05-25|   XRX| 5.172430145333892| 5.197238197345139| 5.110410877235174| 5.160026550292969|436729.0|  0.21959|         0.0|\n",
            "|1978-08-28|   XRX| 5.941470608186212| 5.941470608186212| 5.853912143366753|5.8789286613464355|203564.0|  0.21959|         0.0|\n",
            "|1978-11-27|   XRX| 5.454113483428955| 5.466738864924598| 5.378362071766017| 5.454113483428955| 91308.0|  0.21959|         0.0|\n",
            "|1979-02-26|   XRX|5.7040713994430385|5.7040713994430385|5.6657891273498535|5.6657891273498535|119315.0|   0.2635|         0.0|\n",
            "|1979-05-24|   XRX|  6.09746837835698|  6.09746837835698|  6.04590368270874|  6.04590368270874|137075.0|   0.2635|         0.0|\n",
            "|1979-08-31|   XRX| 6.958912229568794| 6.958912229568794|   6.9198899269104|   6.9198899269104|136848.0|   0.2635|         0.0|\n",
            "|1979-12-03|   XRX| 6.539796673324949| 6.539796673324949| 6.461004568999517| 6.513532638549805|101782.0|   0.2635|         0.0|\n",
            "|1980-01-28|    WY| 5.235520819287436| 5.310314548551105| 5.011141343375978|5.0485382080078125|128250.0|  0.21667|         0.0|\n",
            "|1980-03-03|   XRX| 6.416603069137664| 6.416603069137664| 6.297038841843065| 6.323608875274658|208118.0|  0.30742|         0.0|\n",
            "|1980-06-02|   XRX| 6.172913719217196| 6.172913719217196| 6.078773473745711| 6.092222213745117|500940.0|  0.30742|         0.0|\n",
            "|1980-07-28|    WY| 5.571121450189079|  5.62835900232587| 5.532963664348374| 5.609280109405518| 98250.0|  0.21667|         0.0|\n",
            "|1980-08-29|   XRX| 6.383621692657471|6.4108442161204895| 6.288344279263372| 6.383621692657471|245916.0|  0.30742|         0.0|\n",
            "|1980-08-29|   HAL| 5.044216059720801|  5.11918330771513| 5.044216059720801|5.0602803230285645|121720.0|  0.05956|         0.0|\n",
            "|1980-10-27|    WY| 5.219991345659597| 5.219991345659597| 5.142943792495229|5.1814680099487305| 78150.0|  0.21667|         0.0|\n",
            "|1980-11-24|   HAL| 7.038167960047746| 7.123999326911439| 7.038167960047746| 7.102540969848633|558231.0|  0.03574|         0.0|\n",
            "+----------+------+------------------+------------------+------------------+------------------+--------+---------+------------+\n",
            "only showing top 20 rows\n",
            "\n"
          ]
        }
      ]
    },
    {
      "cell_type": "code",
      "source": [
        "C3V1 = nooutliersdf.filter((col(\"Close\") > 25) & (col(\"Volume\") >=100000))\n",
        "C3V1.show()"
      ],
      "metadata": {
        "colab": {
          "base_uri": "https://localhost:8080/"
        },
        "id": "Zh5IDGwTaCOb",
        "outputId": "59b9eb76-ece2-4866-da8e-8faa45fe9b90"
      },
      "execution_count": 27,
      "outputs": [
        {
          "output_type": "stream",
          "name": "stdout",
          "text": [
            "+----------+------+----+------------------+------------------+------------------+--------+---------+------------+\n",
            "|      Date|Ticker|Open|              High|               Low|             Close|  Volume|Dividends|Stock Splits|\n",
            "+----------+------+----+------------------+------------------+------------------+--------+---------+------------+\n",
            "|1980-07-14|   THC| 0.0| 32.47426024440727|30.981189611068675| 32.00767517089844|173906.0|      0.0|         0.0|\n",
            "|1980-07-15|   THC| 0.0| 32.75419409497783| 31.07449340820313|31.074493408203125|111844.0|      0.0|         0.0|\n",
            "|1980-09-05|    HL| 0.0| 25.58759939452056|23.983600699565773| 25.05293083190918|246600.0|      0.0|         0.0|\n",
            "|1980-09-08|    HL| 0.0| 27.49711799621582| 26.58054739634196| 27.49711799621582|241650.0|      0.0|         0.0|\n",
            "|1980-09-09|    HL| 0.0|27.038846613660578|26.045895784853993|26.886083602905273|150150.0|      0.0|         0.0|\n",
            "|1980-09-10|    HL| 0.0|28.642831246058147|27.191595628404322| 27.49711799621582|136350.0|      0.0|         0.0|\n",
            "|1980-09-11|    HL| 0.0| 28.41369537296262|26.656933472057446|27.879030227661133|103050.0|      0.0|         0.0|\n",
            "|1980-09-12|    HL| 0.0|28.871981411966843|26.580554315778997| 27.19160270690918|119700.0|      0.0|         0.0|\n",
            "|1980-09-17|    HL| 0.0|  29.1775038593118| 27.19160270690918| 27.19160270690918|128700.0|      0.0|         0.0|\n",
            "|1980-09-19|    HL| 0.0| 29.17750358581543| 28.18455301892158| 29.17750358581543|108600.0|      0.0|         0.0|\n",
            "|1980-09-22|    HL| 0.0|32.691020104624705|  29.3302599827842|32.385494232177734|254100.0|      0.0|         0.0|\n",
            "|1980-09-23|   THC| 0.0| 36.39357441512897| 34.90050611943618|35.273773193359375|110625.0|      0.0|         0.0|\n",
            "|1980-09-23|    HL| 0.0|32.843781961654805| 29.78854748740125| 30.70511817932129|155850.0|      0.0|         0.0|\n",
            "|1980-09-24|    HL| 0.0|30.857888762394904|29.253889654634488|30.628746032714844|107550.0|      0.0|         0.0|\n",
            "|1980-09-25|    HL| 0.0|30.246835212441457| 29.33026444842808|29.941312789916992|114900.0|      0.0|         0.0|\n",
            "|1980-09-26|    HL| 0.0|29.864926743278293|  26.8860720413817|27.649883270263672|140700.0|      0.0|         0.0|\n",
            "|1980-11-20|   THC| 0.0|27.715099334716797|27.621783922246184|27.715099334716797|213375.0|      0.0|         0.0|\n",
            "|1980-11-24|   THC| 0.0|27.621772766113285|27.061872507978897| 27.62177276611328|109875.0|      0.0|         0.0|\n",
            "|1981-01-07|   THC| 0.0| 26.78192710876465| 25.38217481154763| 26.78192710876465|122344.0|      0.0|         0.0|\n",
            "|1981-02-03|   THC| 0.0|26.688610202335443| 26.12870979309082| 26.12870979309082|117281.0|      0.0|         0.0|\n",
            "+----------+------+----+------------------+------------------+------------------+--------+---------+------------+\n",
            "only showing top 20 rows\n",
            "\n"
          ]
        }
      ]
    },
    {
      "cell_type": "code",
      "source": [
        "C3V2 = nooutliersdf.filter((col(\"Close\") > 25) & (col(\"Volume\") < 100000))\n",
        "C3V2.show()"
      ],
      "metadata": {
        "colab": {
          "base_uri": "https://localhost:8080/"
        },
        "id": "0pvL3dneaFGu",
        "outputId": "3a8d40e6-1bde-44f1-fbd9-b7b6e043d4c6"
      },
      "execution_count": 28,
      "outputs": [
        {
          "output_type": "stream",
          "name": "stdout",
          "text": [
            "+----------+------+------------------+------------------+------------------+------------------+------+---------+------------+\n",
            "|      Date|Ticker|              Open|              High|               Low|             Close|Volume|Dividends|Stock Splits|\n",
            "+----------+------+------------------+------------------+------------------+------------------+------+---------+------------+\n",
            "|1973-01-11|  TELL|31.753454208374023|31.753454208374023|31.753454208374023|31.753454208374023|   0.0|      0.0|         0.0|\n",
            "|1973-01-17|  TELL|28.253089904785156|28.253089904785156|28.253089904785156|28.253089904785156|   0.0|      0.0|         0.0|\n",
            "|1973-01-19|  TELL| 29.00290870666504| 29.00290870666504| 29.00290870666504| 29.00290870666504|   0.0|      0.0|         0.0|\n",
            "|1973-01-31|  TELL|26.253089904785156|26.253089904785156|26.253089904785156|26.253089904785156|   0.0|      0.0|         0.0|\n",
            "|1973-02-01|  TELL|26.253089904785156|26.253089904785156|26.253089904785156|26.253089904785156|   0.0|      0.0|         0.0|\n",
            "|1973-02-05|  TELL|25.502544403076172|25.502544403076172|25.502544403076172|25.502544403076172|   0.0|      0.0|         0.0|\n",
            "|1973-02-21|   NBR|               0.0|54.750450134277344|54.750450134277344|54.750450134277344| 116.0|      0.0|         0.0|\n",
            "|1973-02-22|   NBR|               0.0|54.750450134277344|54.750450134277344|54.750450134277344|  60.0|      0.0|         0.0|\n",
            "|1973-02-23|   NBR|               0.0|54.750450134277344|54.750450134277344|54.750450134277344|  16.0|      0.0|         0.0|\n",
            "|1973-02-26|   NBR|               0.0| 52.14328384399414| 52.14328384399414| 52.14328384399414| 148.0|      0.0|         0.0|\n",
            "|1973-02-27|   NBR|               0.0| 52.14328384399414| 52.14328384399414| 52.14328384399414|  32.0|      0.0|         0.0|\n",
            "|1973-02-28|   NBR|               0.0| 52.14328384399414| 52.14328384399414| 52.14328384399414|  28.0|      0.0|         0.0|\n",
            "|1973-03-01|   NBR|               0.0| 52.14328384399414| 52.14328384399414| 52.14328384399414|  72.0|      0.0|         0.0|\n",
            "|1973-03-02|   NBR|               0.0| 52.14328384399414| 52.14328384399414| 52.14328384399414|  32.0|      0.0|         0.0|\n",
            "|1973-03-05|   NBR|               0.0| 52.14328384399414| 52.14328384399414| 52.14328384399414|  44.0|      0.0|         0.0|\n",
            "|1973-03-06|   NBR|               0.0| 49.53612518310547| 49.53612518310547| 49.53612518310547|  44.0|      0.0|         0.0|\n",
            "|1973-03-07|   NBR|               0.0| 49.53612518310547| 49.53612518310547| 49.53612518310547|   8.0|      0.0|         0.0|\n",
            "|1973-03-08|   NBR|               0.0| 49.53612518310547| 49.53612518310547| 49.53612518310547| 124.0|      0.0|         0.0|\n",
            "|1973-03-09|   NBR|               0.0| 46.92894744873047| 46.92894744873047| 46.92894744873047|   4.0|      0.0|         0.0|\n",
            "|1973-03-12|   NBR|               0.0| 46.92894744873047| 46.92894744873047| 46.92894744873047|  36.0|      0.0|         0.0|\n",
            "+----------+------+------------------+------------------+------------------+------------------+------+---------+------------+\n",
            "only showing top 20 rows\n",
            "\n"
          ]
        }
      ]
    },
    {
      "cell_type": "code",
      "source": [
        "C3D1 = nooutliersdf.filter((col(\"Close\") > 25) & (col(\"Dividends\") == 0))\n",
        "C3D1.show()"
      ],
      "metadata": {
        "colab": {
          "base_uri": "https://localhost:8080/"
        },
        "id": "a7xvAXyjaHvV",
        "outputId": "dc07a75e-c441-4481-9117-d064631396ad"
      },
      "execution_count": 29,
      "outputs": [
        {
          "output_type": "stream",
          "name": "stdout",
          "text": [
            "+----------+------+------------------+------------------+------------------+------------------+------+---------+------------+\n",
            "|      Date|Ticker|              Open|              High|               Low|             Close|Volume|Dividends|Stock Splits|\n",
            "+----------+------+------------------+------------------+------------------+------------------+------+---------+------------+\n",
            "|1973-01-11|  TELL|31.753454208374023|31.753454208374023|31.753454208374023|31.753454208374023|   0.0|      0.0|         0.0|\n",
            "|1973-01-17|  TELL|28.253089904785156|28.253089904785156|28.253089904785156|28.253089904785156|   0.0|      0.0|         0.0|\n",
            "|1973-01-19|  TELL| 29.00290870666504| 29.00290870666504| 29.00290870666504| 29.00290870666504|   0.0|      0.0|         0.0|\n",
            "|1973-01-31|  TELL|26.253089904785156|26.253089904785156|26.253089904785156|26.253089904785156|   0.0|      0.0|         0.0|\n",
            "|1973-02-01|  TELL|26.253089904785156|26.253089904785156|26.253089904785156|26.253089904785156|   0.0|      0.0|         0.0|\n",
            "|1973-02-05|  TELL|25.502544403076172|25.502544403076172|25.502544403076172|25.502544403076172|   0.0|      0.0|         0.0|\n",
            "|1973-02-21|   NBR|               0.0|54.750450134277344|54.750450134277344|54.750450134277344| 116.0|      0.0|         0.0|\n",
            "|1973-02-22|   NBR|               0.0|54.750450134277344|54.750450134277344|54.750450134277344|  60.0|      0.0|         0.0|\n",
            "|1973-02-23|   NBR|               0.0|54.750450134277344|54.750450134277344|54.750450134277344|  16.0|      0.0|         0.0|\n",
            "|1973-02-26|   NBR|               0.0| 52.14328384399414| 52.14328384399414| 52.14328384399414| 148.0|      0.0|         0.0|\n",
            "|1973-02-27|   NBR|               0.0| 52.14328384399414| 52.14328384399414| 52.14328384399414|  32.0|      0.0|         0.0|\n",
            "|1973-02-28|   NBR|               0.0| 52.14328384399414| 52.14328384399414| 52.14328384399414|  28.0|      0.0|         0.0|\n",
            "|1973-03-01|   NBR|               0.0| 52.14328384399414| 52.14328384399414| 52.14328384399414|  72.0|      0.0|         0.0|\n",
            "|1973-03-02|   NBR|               0.0| 52.14328384399414| 52.14328384399414| 52.14328384399414|  32.0|      0.0|         0.0|\n",
            "|1973-03-05|   NBR|               0.0| 52.14328384399414| 52.14328384399414| 52.14328384399414|  44.0|      0.0|         0.0|\n",
            "|1973-03-06|   NBR|               0.0| 49.53612518310547| 49.53612518310547| 49.53612518310547|  44.0|      0.0|         0.0|\n",
            "|1973-03-07|   NBR|               0.0| 49.53612518310547| 49.53612518310547| 49.53612518310547|   8.0|      0.0|         0.0|\n",
            "|1973-03-08|   NBR|               0.0| 49.53612518310547| 49.53612518310547| 49.53612518310547| 124.0|      0.0|         0.0|\n",
            "|1973-03-09|   NBR|               0.0| 46.92894744873047| 46.92894744873047| 46.92894744873047|   4.0|      0.0|         0.0|\n",
            "|1973-03-12|   NBR|               0.0| 46.92894744873047| 46.92894744873047| 46.92894744873047|  36.0|      0.0|         0.0|\n",
            "+----------+------+------------------+------------------+------------------+------------------+------+---------+------------+\n",
            "only showing top 20 rows\n",
            "\n"
          ]
        }
      ]
    },
    {
      "cell_type": "code",
      "source": [
        "C3D2 = nooutliersdf.filter((col(\"Close\") > 25) & (col(\"Dividends\") > 0))\n",
        "C3D2.show()"
      ],
      "metadata": {
        "colab": {
          "base_uri": "https://localhost:8080/"
        },
        "id": "20m25-KbaKFA",
        "outputId": "58d83222-a68c-41d5-d1a6-c01dc75ae249"
      },
      "execution_count": 30,
      "outputs": [
        {
          "output_type": "stream",
          "name": "stdout",
          "text": [
            "+----------+------+------------------+------------------+------------------+------------------+--------+---------+------------+\n",
            "|      Date|Ticker|              Open|              High|               Low|             Close|  Volume|Dividends|Stock Splits|\n",
            "+----------+------+------------------+------------------+------------------+------------------+--------+---------+------------+\n",
            "|1983-05-19|   THC|28.186155954355833| 28.30661053126891|27.463434006808246|27.945249557495117|200925.0|  0.13333|         0.0|\n",
            "|1983-08-19|   THC|25.632895900505538|25.753806713649205| 25.14925818274642|25.391077041625977|147675.0|  0.13333|         0.0|\n",
            "|1984-11-27|   LEE|               0.0| 34.39426040649414| 34.05540069805578| 34.39426040649414|   480.0|      0.2|         0.0|\n",
            "|1984-12-03|   AIG|32.787512855327456|32.787512855327456|31.643763985364505|31.897930145263672|276341.0|  0.09271|         0.0|\n",
            "|1985-01-18|   GHC|               0.0|30.276840209960938|  30.0032528685539|30.276840209960938| 14895.0|     0.24|         0.0|\n",
            "|1985-02-19|   THC| 28.41168866301847| 28.41168866301847|28.162464274588405| 28.28707504272461| 91350.0|  0.17333|         0.0|\n",
            "|1985-02-25|   LEE|               0.0| 43.15784631347657| 42.47819519042969| 42.47819519042969|  3240.0|     0.23|         0.0|\n",
            "|1985-03-04|   AIG| 37.03725826747661| 37.03725826747661| 36.40087963161929| 36.52815628051758| 86142.0|  0.09271|         0.0|\n",
            "|1985-03-26|   GHC|               0.0| 40.27233123779297| 39.90622182524209| 40.27233123779297|189167.0|     0.24|         0.0|\n",
            "|1985-03-27|   SEB|51.876548767089844|51.876548767089844|51.876548767089844|51.876548767089844|     0.0|    0.125|         0.0|\n",
            "|1985-05-20|   THC|28.665914535522457|29.041450521293005| 28.41555530160063| 28.66591453552246|293475.0|  0.17333|         0.0|\n",
            "|1985-05-24|   LEE|               0.0|  55.8895263671875| 54.69676208496094| 54.69676208496094|  2840.0|     0.58|         0.0|\n",
            "|1985-05-28|   LEE|               0.0| 54.81012482748423|54.124998267140676| 54.29627990722656|  4280.0|     0.23|         0.0|\n",
            "|1985-06-03|   AIG|  42.3116569519043| 42.88515983438661| 42.24793646040702|  42.3116569519043| 96820.0|  0.09271|         0.0|\n",
            "|1985-06-12|   SEB|48.818824768066406|48.818824768066406|48.818824768066406|48.818824768066406|     0.0|    0.125|         0.0|\n",
            "|1985-07-22|   GHC|               0.0| 45.17767333984375|44.994023299742906| 45.17767333984375|  6124.0|     0.24|         0.0|\n",
            "|1985-08-19|   THC|25.541477203369137|25.793119302180116|25.541477203369137| 25.54147720336914|253500.0|  0.17333|         0.0|\n",
            "|1985-08-30|   AIG| 43.32291030883789|43.897147750939894| 43.32291030883789| 43.32291030883789| 60987.0|  0.09271|         0.0|\n",
            "|1985-09-03|   LEE|               0.0| 56.99144744873046|56.648125476147754| 56.99144744873047|   920.0|     0.23|         0.0|\n",
            "|1985-09-16|   SEB| 54.39968532986111| 54.39968532986111| 53.30291748046875| 53.30291748046875|  1900.0|    0.125|         0.0|\n",
            "+----------+------+------------------+------------------+------------------+------------------+--------+---------+------------+\n",
            "only showing top 20 rows\n",
            "\n"
          ]
        }
      ]
    },
    {
      "cell_type": "code",
      "source": [
        "V1D1 = nooutliersdf.filter((col(\"Volume\") >=100000) & (col(\"Dividends\") == 0))\n",
        "V1D1.show()"
      ],
      "metadata": {
        "colab": {
          "base_uri": "https://localhost:8080/"
        },
        "id": "oI1T6WTAaMhx",
        "outputId": "3335112d-5425-443e-93ef-678ad7d0a97f"
      },
      "execution_count": 31,
      "outputs": [
        {
          "output_type": "stream",
          "name": "stdout",
          "text": [
            "+----------+------+--------------------+--------------------+--------------------+--------------------+--------+---------+------------+\n",
            "|      Date|Ticker|                Open|                High|                 Low|               Close|  Volume|Dividends|Stock Splits|\n",
            "+----------+------+--------------------+--------------------+--------------------+--------------------+--------+---------+------------+\n",
            "|1962-01-02|   CVX|                 0.0| 0.04680890217423439| 0.04606926600933256| 0.04680890217423439|105840.0|      0.0|         0.0|\n",
            "|1962-01-02|   MMM|                 0.0|   0.541890852671279|  0.5259528842775644|  0.5299372673034668|254509.0|      0.0|         0.0|\n",
            "|1962-01-02|   DIS| 0.05835945904254913|  0.0603180077410653| 0.05835945904254913| 0.05835945904254913|841958.0|      0.0|         0.0|\n",
            "|1962-01-02|    MO|                 0.0| 0.00333833846261782|0.003293024608865...|0.003293024608865...|345600.0|      0.0|         0.0|\n",
            "|1962-01-02|    PG|                 0.0|  0.2749725586034827| 0.27124668804133245| 0.27273714542388916|192000.0|      0.0|         0.0|\n",
            "|1962-01-02|    GE|  2.6095722714128895|  2.6530648102552266|  2.5834764822291847|  2.6008732318878174|432682.0|      0.0|         0.0|\n",
            "|1962-01-02|    BA| 0.19031055781074385| 0.19031055781074385| 0.18703724443912506| 0.18703724443912506|352350.0|      0.0|         0.0|\n",
            "|1962-01-02|    KR|                 0.0|0.031310200378601695|0.030155323770468735| 0.03054029308259487|153600.0|      0.0|         0.0|\n",
            "|1962-01-02|   IBM|  1.5743495588732903|  1.5743495588732903|  1.5566600561141968|  1.5566600561141968|407940.0|      0.0|         0.0|\n",
            "|1962-01-02|   CAT| 0.13051198422908783| 0.13178320460278306|  0.1292407638553926| 0.13051198422908783|163200.0|      0.0|         0.0|\n",
            "|1962-01-02|    KO|0.004007111303508282|0.004116209094057981|0.004007111303508282|0.004007111303508282|806400.0|      0.0|         0.0|\n",
            "|1962-01-02|   MRK|                 0.0| 0.08608435432886191| 0.08524634122762473| 0.08572530001401901|633830.0|      0.0|         0.0|\n",
            "|1962-01-02|   XOM|                 0.0|  0.1015373839390559|  0.1007889360189438| 0.10078893601894379|902400.0|      0.0|         0.0|\n",
            "|1962-01-03|   IBM|  1.5566596462442635|   1.570266842842102|  1.5566596462442635|   1.570266842842102|305955.0|      0.0|         0.0|\n",
            "|1962-01-03|    PG|                 0.0|  0.2727370790512293| 0.26752075237595546| 0.26975634694099426|428800.0|      0.0|         0.0|\n",
            "|1962-01-03|   JNJ|                 0.0| 0.06706344518838142|  0.0667121484875679|  0.0667121484875679|345600.0|      0.0|         0.0|\n",
            "|1962-01-03|   MMM|                 0.0|  0.5339213609695435|   0.520971844909888|  0.5339213609695435|505190.0|      0.0|         0.0|\n",
            "|1962-01-03|   DIS|0.058359487924549334|  0.0593387604184346|0.058359487924549334| 0.05914277955889702|801865.0|      0.0|         0.0|\n",
            "|1962-01-03|    GE|  2.5878280706306174|  2.5878280706306174|   2.566081366296228|   2.574779748916626|296467.0|      0.0|         0.0|\n",
            "|1962-01-03|   CAT|  0.1305119966965645| 0.13178321719169617| 0.12924077620143284| 0.13178321719169617|156000.0|      0.0|         0.0|\n",
            "+----------+------+--------------------+--------------------+--------------------+--------------------+--------+---------+------------+\n",
            "only showing top 20 rows\n",
            "\n"
          ]
        }
      ]
    },
    {
      "cell_type": "code",
      "source": [
        "V1D2 = nooutliersdf.filter((col(\"Volume\") >=100000) & (col(\"Dividends\") > 0))\n",
        "V1D2.show()"
      ],
      "metadata": {
        "colab": {
          "base_uri": "https://localhost:8080/"
        },
        "id": "Rl7HbQC3aPKU",
        "outputId": "3162915b-0537-47f6-ad52-426b9c7f487a"
      },
      "execution_count": 32,
      "outputs": [
        {
          "output_type": "stream",
          "name": "stdout",
          "text": [
            "+----------+------+--------------------+--------------------+--------------------+--------------------+--------+---------+------------+\n",
            "|      Date|Ticker|                Open|                High|                 Low|               Close|  Volume|Dividends|Stock Splits|\n",
            "+----------+------+--------------------+--------------------+--------------------+--------------------+--------+---------+------------+\n",
            "|1962-01-16|   CAT| 0.13898438379846487| 0.13898438379846487| 0.13727900221265876| 0.13813169300556183|163200.0|  0.01042|         0.0|\n",
            "|1962-01-16|    PG|                 0.0| 0.25896285513980793|  0.2559690659631997|  0.2574658691883087|236800.0|  0.00586|         0.0|\n",
            "|1962-01-31|   CVX|                 0.0| 0.04681572589458939| 0.04574930228332603|0.046175871044397354|226800.0|  0.02976|         0.0|\n",
            "|1962-02-05|    BA| 0.20855923195732787| 0.20855923195732787| 0.20478437911898212| 0.20525632798671722|893025.0|  0.00823|         0.0|\n",
            "|1962-02-06|   IBM|  1.4997241316491243|  1.5024459194744597|  1.4942804541808636|  1.5010849237442017|274575.0|    0.001|         0.0|\n",
            "|1962-02-13|   JNJ|                 0.0| 0.07426206147841893|  0.0733820331917661| 0.07355809956789017|734400.0|   5.8E-4|         0.0|\n",
            "|1962-03-13|   DIS|0.060867423645003756|0.061849240213632584|0.060867423645003756|0.061849240213632584|360839.0|   2.5E-4|         0.0|\n",
            "|1962-03-13|    GE|  2.7305014356336184|  2.7305014356336184|  2.7000174837398028|  2.7174365520477295|258407.0|  0.00501|         0.0|\n",
            "|1962-04-16|   CAT| 0.13259243900518197| 0.13259243900518197| 0.12787229362700323|  0.1295887529850006|129600.0|  0.01042|         0.0|\n",
            "|1962-04-16|    PG|                 0.0| 0.25223176029532657| 0.25035217032249457| 0.25110411643981934|288000.0|  0.00586|         0.0|\n",
            "|1962-05-07|   CVX|                 0.0| 0.05193804065790775| 0.05150791015191521| 0.05161545053124428|129360.0|  0.02976|         0.0|\n",
            "|1962-05-08|    BA| 0.17883749994413814| 0.17883749994413814| 0.17263779044151306| 0.17263779044151306|674325.0|  0.00823|         0.0|\n",
            "|1962-05-09|   XOM|                 0.0| 0.11068051085966654| 0.10966041427230443| 0.11017043143510818|988800.0|  0.01875|         0.0|\n",
            "|1962-05-22|   JNJ|                 0.0| 0.06247456484072204| 0.06106259673833847| 0.06106259673833847|432000.0|   5.8E-4|         0.0|\n",
            "|1962-06-12|   DIS| 0.04806399301773638| 0.04806399301773638|0.047078996896743774|0.047078996896743774|240560.0|   2.5E-4|         0.0|\n",
            "|1962-06-12|    GE|  2.2375082615620276|  2.2375082615620276|  2.1328298944996265|  2.1415529251098633|548865.0|  0.00501|         0.0|\n",
            "|1962-07-17|   CAT| 0.11243165144434608| 0.11286405437807359| 0.11026947841535925| 0.11070188134908676|283200.0|  0.01042|         0.0|\n",
            "|1962-07-17|    PG|                 0.0| 0.20487853526807268| 0.20185449852822124|  0.2022324800491333|384000.0|  0.00586|         0.0|\n",
            "|1962-08-07|   IBM|  1.0336559745684533|  1.0336559745684533|  1.0162981748580933|  1.0162981748580933|964935.0|    0.001|         0.0|\n",
            "|1962-08-07|   CVX|                 0.0|0.048824384808540344| 0.04839038840723211|0.048824384808540344|142800.0|  0.02976|         0.0|\n",
            "+----------+------+--------------------+--------------------+--------------------+--------------------+--------+---------+------------+\n",
            "only showing top 20 rows\n",
            "\n"
          ]
        }
      ]
    },
    {
      "cell_type": "code",
      "source": [
        "V2D1 = nooutliersdf.filter((col(\"Volume\") < 100000) & (col(\"Dividends\") == 0))\n",
        "V2D1.show()"
      ],
      "metadata": {
        "colab": {
          "base_uri": "https://localhost:8080/"
        },
        "id": "RZjaZcL9aRTh",
        "outputId": "70d27b90-d31a-4328-8c17-e03b2a2ea8d8"
      },
      "execution_count": 33,
      "outputs": [
        {
          "output_type": "stream",
          "name": "stdout",
          "text": [
            "+----------+------+------------------+-------------------+-------------------+-------------------+-------+---------+------------+\n",
            "|      Date|Ticker|              Open|               High|                Low|              Close| Volume|Dividends|Stock Splits|\n",
            "+----------+------+------------------+-------------------+-------------------+-------------------+-------+---------+------------+\n",
            "|1962-01-02|    ED|               0.0| 0.2658275556233194|0.26178762316703796|0.26178762316703796|25600.0|      0.0|         0.0|\n",
            "|1962-01-02|    BP|               0.0|0.14143933090345925|0.13952797651290894|0.13952797651290894|77440.0|      0.0|         0.0|\n",
            "|1962-01-02|   MSI|               0.0| 0.7649229763450202| 0.7452535214492476| 0.7518101930618286|65671.0|      0.0|         0.0|\n",
            "|1962-01-02|   HON|               0.0| 1.5596422972915405|  1.549127912225958| 1.5561375617980957|40740.0|      0.0|         0.0|\n",
            "|1962-01-02|    FL|               0.0| 0.9722493028732154| 0.9538055893643659| 0.9590751528739929|49200.0|      0.0|         0.0|\n",
            "|1962-01-02|    GT|               0.0| 1.9469001299879525| 1.9142705188708358| 1.9360235929489136|32000.0|      0.0|         0.0|\n",
            "|1962-01-02|   JNJ|               0.0| 0.0677657350897789|0.06741443839221611| 0.0677657350897789|    0.0|      0.0|         0.0|\n",
            "|1962-01-02|   XRX|               0.0| 1.0117952124550889| 0.9992262318347459| 1.0055105686187744|51233.0|      0.0|         0.0|\n",
            "|1962-01-02|   CNP|               0.0|0.31389233720884596| 0.3115246295928955| 0.3115246295928955|13879.0|      0.0|         0.0|\n",
            "|1962-01-02|    AA|               0.0| 1.5505479006670275| 1.5417044162750244| 1.5417044162750244|55930.0|      0.0|         0.0|\n",
            "|1962-01-02|   AEP|               0.0| 0.9997236014281031|   0.97659832239151|   0.97659832239151| 5800.0|      0.0|         0.0|\n",
            "|1962-01-02|   DTE|               0.0|0.39185275952051335| 0.3878624141216278| 0.3878624141216278| 1880.0|      0.0|         0.0|\n",
            "|1962-01-02|    IP|               0.0| 0.9030301539559435| 0.8819594383239746| 0.8819594383239746|51552.0|      0.0|         0.0|\n",
            "|1962-01-02|   MRO|               0.0|0.41745506124276033| 0.4123796360272837| 0.4149174094200134|84139.0|      0.0|         0.0|\n",
            "|1962-01-03|   XRX|               0.0|   1.02436363697052| 1.0117949664582726|   1.02436363697052|51233.0|      0.0|         0.0|\n",
            "|1962-01-03|    FL|               0.0| 0.9524882120390734|  0.948535978794098| 0.9485359787940979|31200.0|      0.0|         0.0|\n",
            "|1962-01-03|   CNP|               0.0|0.31152445657182065|0.30848026275634766|0.30848026275634766|25623.0|      0.0|         0.0|\n",
            "|1962-01-03|    AA|1.5417026753981868|  1.565285086631775| 1.5387547757231785|  1.565285086631775|74906.0|      0.0|         0.0|\n",
            "|1962-01-03|    GT|               0.0| 1.9305855682918005| 1.9033942222595217| 1.9033942222595215|28000.0|      0.0|         0.0|\n",
            "|1962-01-03|    BP|               0.0| 0.1414393186569214|0.14016501977023957| 0.1414393186569214|85184.0|      0.0|         0.0|\n",
            "+----------+------+------------------+-------------------+-------------------+-------------------+-------+---------+------------+\n",
            "only showing top 20 rows\n",
            "\n"
          ]
        }
      ]
    },
    {
      "cell_type": "code",
      "source": [
        "V2D2 = df.filter((col(\"Volume\") < 100000) & (col(\"Dividends\") > 0))\n",
        "V2D2.show()"
      ],
      "metadata": {
        "colab": {
          "base_uri": "https://localhost:8080/"
        },
        "id": "nsJoyAleaTXQ",
        "outputId": "67d6d574-5a32-42b7-8dfa-bc4512a233dc"
      },
      "execution_count": 34,
      "outputs": [
        {
          "output_type": "stream",
          "name": "stdout",
          "text": [
            "+----------+------+------------------+-------------------+-------------------+-------------------+-------+---------+------------+\n",
            "|      Date|Ticker|              Open|               High|                Low|              Close| Volume|Dividends|Stock Splits|\n",
            "+----------+------+------------------+-------------------+-------------------+-------------------+-------+---------+------------+\n",
            "|1962-01-29|    FL|               0.0| 0.8984163061371896| 0.8811646699905397| 0.8811646699905396|30000.0|  0.05208|         0.0|\n",
            "|1962-01-30|    ED|               0.0|0.25213567951282895| 0.2513197064399719| 0.2513197064399719|40800.0|  0.09375|         0.0|\n",
            "|1962-02-06|    AA|1.4013793992556496| 1.4013793992556496| 1.3806400771288425|  1.392491102218628|40949.0|  0.03004|         0.0|\n",
            "|1962-02-09|    GT|               0.0| 1.9405069106664414| 1.9131758274176183| 1.9186420440673828|26400.0|  0.05625|         0.0|\n",
            "|1962-02-20|    IP|               0.0| 0.9038413166999817| 0.8765440502671659| 0.9038413166999817|62911.0|  0.06357|         0.0|\n",
            "|1962-03-26|   DTE|               0.0|0.38500698779144105|0.38339608907699585|0.38339608907699585| 2820.0|  0.23404|         0.0|\n",
            "|1962-04-26|    FL|               0.0| 0.8268306615329024| 0.8107756972312927| 0.8107756972312927|31200.0|  0.05208|         0.0|\n",
            "|1962-05-01|    ED|               0.0|  0.256211495014929|0.24797318327811455|0.25538766384124756|48000.0|  0.09375|         0.0|\n",
            "|1962-05-10|    GT|               0.0|  1.737284028684938| 1.6878044202730254| 1.6933021545410156|32400.0|  0.05625|         0.0|\n",
            "|1962-05-15|    AA|1.3463118408746315| 1.3641830075189565| 1.3463118408746315|  1.352268934249878|82896.0|  0.03004|         0.0|\n",
            "|1962-05-16|    IP|               0.0| 0.7680068614215287| 0.7588274477854057|   0.76188725233078|67280.0|  0.06357|         0.0|\n",
            "|1962-06-19|   DTE|               0.0|0.33702277071761677|0.33539465069770813|0.33539465069770813| 3055.0|  0.23404|         0.0|\n",
            "|1962-07-27|    FL|               0.0| 0.7239773273468018| 0.7050675119253421| 0.7239773273468018|22800.0|  0.05208|         0.0|\n",
            "|1962-07-31|    ED|               0.0|0.24840195186498787| 0.2467376171791253|0.24756978452205658|24800.0|  0.09375|         0.0|\n",
            "|1962-08-10|    GT|               0.0| 1.3304986833017083| 1.3027799607329227|  1.313867449760437|27600.0|   0.0625|         0.0|\n",
            "|1962-08-14|    AA|1.4517875867557892| 1.4996816476245696| 1.4308340848106755| 1.4847147464752197|50936.0|  0.03004|         0.0|\n",
            "|1962-08-21|    IP|               0.0| 0.6647558107440432| 0.6492963433265686| 0.6492963433265686|46309.0|  0.06357|         0.0|\n",
            "|1962-09-24|   DTE|               0.0| 0.3860912024974823|0.38362678993991495| 0.3860912024974823|13395.0|  0.23404|         0.0|\n",
            "|1962-10-29|    FL|               0.0| 0.6392796635627747| 0.6297177465666068| 0.6392796635627747|61200.0|  0.05208|         0.0|\n",
            "|1962-10-30|    ED|               0.0|0.24302796527950302|0.23882332920200294|  0.242187038064003|34400.0|  0.09375|         0.0|\n",
            "+----------+------+------------------+-------------------+-------------------+-------------------+-------+---------+------------+\n",
            "only showing top 20 rows\n",
            "\n"
          ]
        }
      ]
    },
    {
      "cell_type": "markdown",
      "source": [
        "# Generación de modelos ya con datos preprocesados\n",
        "\n",
        "Aquí, al ya tener limpios los datos, sólo nos queda unir en un solo dataframe la muestra de cada combinación y proseguir a realizar un modelo con datos mucho más manejables que los 9000 tickers completos."
      ],
      "metadata": {
        "id": "8wvyk9cv1dz2"
      }
    },
    {
      "cell_type": "code",
      "source": [
        "from pyspark.sql.functions import lit"
      ],
      "metadata": {
        "id": "FkI18Ws2jdhY"
      },
      "execution_count": 35,
      "outputs": []
    },
    {
      "cell_type": "code",
      "source": [
        "# Añadimos una columna para identificar la combinación de cada DataFrame\n",
        "V1D1 = V1D1.withColumn(\"combinacion\", lit(\"V1D1\"))\n",
        "V1D2 = V1D2.withColumn(\"combinacion\", lit(\"V1D2\"))\n",
        "V2D1 = V2D1.withColumn(\"combinacion\", lit(\"V2D1\"))\n",
        "V2D2 = V2D2.withColumn(\"combinacion\", lit(\"V2D2\"))\n",
        "C1V1 = C1V1.withColumn(\"combinacion\", lit(\"C1V1\"))\n",
        "C1V2 = C1V2.withColumn(\"combinacion\", lit(\"C1V2\"))\n",
        "C1D1 = C1D1.withColumn(\"combinacion\", lit(\"C1D1\"))\n",
        "C1D2 = C1D2.withColumn(\"combinacion\", lit(\"C1D2\"))\n",
        "C2V1 = C2V1.withColumn(\"combinacion\", lit(\"C2V1\"))\n",
        "C2V2 = C2V2.withColumn(\"combinacion\", lit(\"C2V2\"))\n",
        "C2D1 = C2D1.withColumn(\"combinacion\", lit(\"C2D1\"))\n",
        "C2D2 = C2D2.withColumn(\"combinacion\", lit(\"C2D2\"))\n",
        "C3V1 = C3V1.withColumn(\"combinacion\", lit(\"C3V1\"))\n",
        "C3V2 = C3V2.withColumn(\"combinacion\", lit(\"C3V2\"))\n",
        "C3D1 = C3D1.withColumn(\"combinacion\", lit(\"C3D1\"))\n",
        "C3D2 = C3D2.withColumn(\"combinacion\", lit(\"C3D2\"))\n",
        "\n",
        "# Creamos un diccionario con las probabilidades conjuntas que nos permitirá estratificar posteriormente\n",
        "probabilidades = {\n",
        "    \"V1D1\": 0.326397,\n",
        "    \"V1D2\": 0.002303,\n",
        "    \"V2D1\": 0.666303,\n",
        "    \"V2D2\": 0.004697,\n",
        "    \"C1V1\": 0.125907,\n",
        "    \"C1V2\": 0.256493,\n",
        "    \"C1D1\": 0.380019,\n",
        "    \"C1D2\": 0.002681,\n",
        "    \"C2V1\": 0.150682,\n",
        "    \"C2V2\": 0.307318,\n",
        "    \"C2D1\": 0.454194,\n",
        "    \"C2D2\": 0.003206,\n",
        "    \"C3V1\": 0.052311,\n",
        "    \"C3V2\": 0.106689,\n",
        "    \"C3D1\": 0.157887,\n",
        "    \"C3D2\": 0.001113\n",
        "}"
      ],
      "metadata": {
        "id": "kQnuPDXehT89"
      },
      "execution_count": 36,
      "outputs": []
    },
    {
      "cell_type": "code",
      "source": [
        "# Asignamos arbitrariamente el total de muestras de cada tipo de combinación (de acuerdo a los resultados, podemos cambiar el volumen)\n",
        "total_muestras = 100\n",
        "\n",
        "# Calcularmos muestras por combinación de acuerdo a su probabilidad y al número arbitrario\n",
        "muestras_por_grupo = {k: int(prob * total_muestras) for k, prob in probabilidades.items()}\n",
        "\n",
        "# Muestreamos desde cada dataframe\n",
        "df_muestra = (\n",
        "    V1D1.sample(withReplacement=True, fraction=1.0).limit(muestras_por_grupo[\"V1D1\"])\n",
        "    .union(V1D2.sample(withReplacement=True, fraction=1.0).limit(muestras_por_grupo[\"V1D2\"]))\n",
        "    .union(V2D1.sample(withReplacement=True, fraction=1.0).limit(muestras_por_grupo[\"V2D1\"]))\n",
        "    .union(V2D2.sample(withReplacement=True, fraction=1.0).limit(muestras_por_grupo[\"V2D2\"]))\n",
        "    .union(C1V1.sample(withReplacement=True, fraction=1.0).limit(muestras_por_grupo[\"C1V1\"]))\n",
        "    .union(C1V2.sample(withReplacement=True, fraction=1.0).limit(muestras_por_grupo[\"C1V2\"]))\n",
        "    .union(C1D1.sample(withReplacement=True, fraction=1.0).limit(muestras_por_grupo[\"C1D1\"]))\n",
        "    .union(C1D2.sample(withReplacement=True, fraction=1.0).limit(muestras_por_grupo[\"C1D2\"]))\n",
        "    .union(C2V1.sample(withReplacement=True, fraction=1.0).limit(muestras_por_grupo[\"C2V1\"]))\n",
        "    .union(C2V2.sample(withReplacement=True, fraction=1.0).limit(muestras_por_grupo[\"C2V2\"]))\n",
        "    .union(C2D1.sample(withReplacement=True, fraction=1.0).limit(muestras_por_grupo[\"C2D1\"]))\n",
        "    .union(C2D2.sample(withReplacement=True, fraction=1.0).limit(muestras_por_grupo[\"C2D2\"]))\n",
        "    .union(C3V1.sample(withReplacement=True, fraction=1.0).limit(muestras_por_grupo[\"C3V1\"]))\n",
        "    .union(C3V2.sample(withReplacement=True, fraction=1.0).limit(muestras_por_grupo[\"C3V2\"]))\n",
        "    .union(C3D1.sample(withReplacement=True, fraction=1.0).limit(muestras_por_grupo[\"C3D1\"]))\n",
        "    .union(C3D2.sample(withReplacement=True, fraction=1.0).limit(muestras_por_grupo[\"C3D2\"]))\n",
        ")\n",
        "\n",
        "# Elaboramos un nuevo dataframe ya muestreado y lo mostramos\n",
        "df_muestra.show()\n",
        "print(\"Total de registros muestreados: \", df_muestra.count())"
      ],
      "metadata": {
        "colab": {
          "base_uri": "https://localhost:8080/"
        },
        "id": "dH8XHTehs_31",
        "outputId": "7a48d2ef-52ec-4957-92f6-32805b68add4"
      },
      "execution_count": 60,
      "outputs": [
        {
          "output_type": "stream",
          "name": "stdout",
          "text": [
            "+----------+------+--------------------+--------------------+--------------------+--------------------+--------+---------+------------+-----------+\n",
            "|      Date|Ticker|                Open|                High|                 Low|               Close|  Volume|Dividends|Stock Splits|combinacion|\n",
            "+----------+------+--------------------+--------------------+--------------------+--------------------+--------+---------+------------+-----------+\n",
            "|1962-01-02|    MO|                 0.0| 0.00333833846261782|0.003293024608865...|0.003293024608865...|345600.0|      0.0|         0.0|       V1D1|\n",
            "|1962-01-02|    PG|                 0.0|  0.2749725586034827| 0.27124668804133245| 0.27273714542388916|192000.0|      0.0|         0.0|       V1D1|\n",
            "|1962-01-02|    GE|  2.6095722714128895|  2.6530648102552266|  2.5834764822291847|  2.6008732318878174|432682.0|      0.0|         0.0|       V1D1|\n",
            "|1962-01-02|   CAT| 0.13051198422908783| 0.13178320460278306|  0.1292407638553926| 0.13051198422908783|163200.0|      0.0|         0.0|       V1D1|\n",
            "|1962-01-02|    KO|0.004007111303508282|0.004116209094057981|0.004007111303508282|0.004007111303508282|806400.0|      0.0|         0.0|       V1D1|\n",
            "|1962-01-02|   MRK|                 0.0| 0.08608435432886191| 0.08524634122762473| 0.08572530001401901|633830.0|      0.0|         0.0|       V1D1|\n",
            "|1962-01-02|   XOM|                 0.0|  0.1015373839390559|  0.1007889360189438| 0.10078893601894379|902400.0|      0.0|         0.0|       V1D1|\n",
            "|1962-01-03|   IBM|  1.5566596462442635|   1.570266842842102|  1.5566596462442635|   1.570266842842102|305955.0|      0.0|         0.0|       V1D1|\n",
            "|1962-01-03|    PG|                 0.0|  0.2727370790512293| 0.26752075237595546| 0.26975634694099426|428800.0|      0.0|         0.0|       V1D1|\n",
            "|1962-01-03|    PG|                 0.0|  0.2727370790512293| 0.26752075237595546| 0.26975634694099426|428800.0|      0.0|         0.0|       V1D1|\n",
            "|1962-01-03|   JNJ|                 0.0| 0.06706344518838142|  0.0667121484875679|  0.0667121484875679|345600.0|      0.0|         0.0|       V1D1|\n",
            "|1962-01-03|   JNJ|                 0.0| 0.06706344518838142|  0.0667121484875679|  0.0667121484875679|345600.0|      0.0|         0.0|       V1D1|\n",
            "|1962-01-03|   DIS|0.058359487924549334|  0.0593387604184346|0.058359487924549334| 0.05914277955889702|801865.0|      0.0|         0.0|       V1D1|\n",
            "|1962-01-03|   DIS|0.058359487924549334|  0.0593387604184346|0.058359487924549334| 0.05914277955889702|801865.0|      0.0|         0.0|       V1D1|\n",
            "|1962-01-03|   DIS|0.058359487924549334|  0.0593387604184346|0.058359487924549334| 0.05914277955889702|801865.0|      0.0|         0.0|       V1D1|\n",
            "|1962-01-03|   DIS|0.058359487924549334|  0.0593387604184346|0.058359487924549334| 0.05914277955889702|801865.0|      0.0|         0.0|       V1D1|\n",
            "|1962-01-03|    GE|  2.5878280706306174|  2.5878280706306174|   2.566081366296228|   2.574779748916626|296467.0|      0.0|         0.0|       V1D1|\n",
            "|1962-01-03|   CAT|  0.1305119966965645| 0.13178321719169617| 0.12924077620143284| 0.13178321719169617|156000.0|      0.0|         0.0|       V1D1|\n",
            "|1962-01-03|   CAT|  0.1305119966965645| 0.13178321719169617| 0.12924077620143284| 0.13178321719169617|156000.0|      0.0|         0.0|       V1D1|\n",
            "|1962-01-03|    BA| 0.18984291485494204| 0.19358368663393508| 0.18984291485494204| 0.19077804684638977|710775.0|      0.0|         0.0|       V1D1|\n",
            "+----------+------+--------------------+--------------------+--------------------+--------------------+--------+---------+------------+-----------+\n",
            "only showing top 20 rows\n",
            "\n",
            "Total de registros muestreados:  293\n"
          ]
        }
      ]
    },
    {
      "cell_type": "code",
      "source": [
        "# Verificamos columnas para saber cuáles ocuparemos en los modelos\n",
        "for col_name, dtype in df_muestra.dtypes:\n",
        "    print(f\"{col_name}: {dtype}\")"
      ],
      "metadata": {
        "colab": {
          "base_uri": "https://localhost:8080/"
        },
        "id": "2A3ESGzCttZ4",
        "outputId": "5ba41f6d-31a9-482b-8c12-51278b5266cd"
      },
      "execution_count": 41,
      "outputs": [
        {
          "output_type": "stream",
          "name": "stdout",
          "text": [
            "Date: date\n",
            "Ticker: string\n",
            "Open: double\n",
            "High: double\n",
            "Low: double\n",
            "Close: double\n",
            "Volume: double\n",
            "Dividends: double\n",
            "Stock Splits: double\n",
            "combinacion: string\n"
          ]
        }
      ]
    },
    {
      "cell_type": "code",
      "source": [
        "# Asignamos columnas numéricas para que las otras no influyan en el resultado final\n",
        "columnas_numericas = [\n",
        "    \"Open\", \"High\", \"Low\", \"Close\",\n",
        "    \"Volume\", \"Dividends\", \"Stock Splits\"\n",
        "]"
      ],
      "metadata": {
        "id": "fzx1LjFat3qV"
      },
      "execution_count": 43,
      "outputs": []
    },
    {
      "cell_type": "code",
      "source": [
        "from pyspark.ml.feature import VectorAssembler, StringIndexer\n",
        "from pyspark.ml.classification import DecisionTreeClassifier\n",
        "from pyspark.ml import Pipeline\n",
        "from pyspark.ml.evaluation import MulticlassClassificationEvaluator, ClusteringEvaluator\n",
        "from pyspark.ml.clustering import KMeans"
      ],
      "metadata": {
        "id": "rHSkOEHLveSX"
      },
      "execution_count": 50,
      "outputs": []
    },
    {
      "cell_type": "code",
      "source": [
        "from pyspark.ml.classification import RandomForestClassifier"
      ],
      "metadata": {
        "id": "A3lqNNAEwqZp"
      },
      "execution_count": 56,
      "outputs": []
    },
    {
      "cell_type": "markdown",
      "source": [
        "# Aprendizaje supervisado"
      ],
      "metadata": {
        "id": "KBEW6v1x6cEq"
      }
    },
    {
      "cell_type": "code",
      "source": [
        "from pyspark.ml.regression import DecisionTreeRegressor\n",
        "from pyspark.ml.evaluation import RegressionEvaluator\n",
        "\n",
        "# Definimos las variables\n",
        "target = \"Close\"\n",
        "features = [\"Open\", \"High\", \"Low\", \"Volume\", \"Dividends\", \"Stock Splits\"]\n",
        "\n",
        "# VectorAssembler\n",
        "ensamblador = VectorAssembler(inputCols=features, outputCol=\"features\")\n",
        "\n",
        "# Generamos los conjuntos de entrenamiento y prueba de manera arbitraria\n",
        "df_entrena, df_prueba = df_muestra.randomSplit([0.8, 0.2], seed=42)\n",
        "\n",
        "# Modelo de regresión\n",
        "regresor = DecisionTreeRegressor(labelCol=target, featuresCol=\"features\")\n",
        "\n",
        "# Pipeline\n",
        "pipeline = Pipeline(stages=[ensamblador, regresor])\n",
        "modelo = pipeline.fit(df_entrena)\n",
        "predicciones = modelo.transform(df_prueba)\n",
        "\n",
        "# Evaluamos el modelo con RMSE y R2\n",
        "evaluator_rmse = RegressionEvaluator(labelCol=target, predictionCol=\"prediction\", metricName=\"rmse\")\n",
        "evaluator_r2 = RegressionEvaluator(labelCol=target, predictionCol=\"prediction\", metricName=\"r2\")\n",
        "\n",
        "rmse = evaluator_rmse.evaluate(predicciones)\n",
        "r2 = evaluator_r2.evaluate(predicciones)\n",
        "\n",
        "print(\"📊 Métricas del Modelo de Regresión:\")\n",
        "print(f\"RMSE: {rmse:.4f}\")\n",
        "print(f\"R2  : {r2:.4f}\")"
      ],
      "metadata": {
        "colab": {
          "base_uri": "https://localhost:8080/"
        },
        "id": "Q0Ev_Vl_2d8Y",
        "outputId": "f07f898b-4c13-41d8-c861-e2f790596563"
      },
      "execution_count": 61,
      "outputs": [
        {
          "output_type": "stream",
          "name": "stdout",
          "text": [
            "📊 Métricas del Modelo de Regresión:\n",
            "RMSE: 0.3349\n",
            "R2  : 0.9993\n"
          ]
        }
      ]
    },
    {
      "cell_type": "markdown",
      "source": [
        "La métricas salen correctas, incluso evaluando diferentes escenarios o muestreos se obtiene una prueba similar y esto se puede deber a que las correlaciones entre los precios es alta. En resumen, el RMSE significa que, en promedio, el modelo se equivoca por 33.49 centavos, lo que, si bien pudiera ser relevante en acciones que no presentan tanta variabilidad, en el conjunto, no representa mayor problema (hay unas que varían por miles de pesos, incluso)."
      ],
      "metadata": {
        "id": "hg08milH5Zhj"
      }
    },
    {
      "cell_type": "markdown",
      "source": [
        "# Aprendizaje no supervisado"
      ],
      "metadata": {
        "id": "zLVnxiTQ6hUP"
      }
    },
    {
      "cell_type": "code",
      "source": [
        "from pyspark.ml.clustering import KMeans\n",
        "from pyspark.ml.evaluation import ClusteringEvaluator\n",
        "from pyspark.ml.feature import VectorAssembler\n",
        "\n",
        "# VectorAssembler\n",
        "ensamblador = VectorAssembler(inputCols=columnas_numericas, outputCol=\"features\")\n",
        "df_features = ensamblador.transform(df_muestra)\n",
        "\n",
        "# KMeans\n",
        "kmeans = KMeans(k=3, seed=42, featuresCol=\"features\", predictionCol=\"cluster\")\n",
        "modelo_kmeans = kmeans.fit(df_features)\n",
        "df_clusterizado = modelo_kmeans.transform(df_features)\n",
        "\n",
        "# 5Evaluaciones de la clusterización\n",
        "evaluador = ClusteringEvaluator(\n",
        "    featuresCol=\"features\",\n",
        "    predictionCol=\"cluster\",\n",
        "    metricName=\"silhouette\"\n",
        ")\n",
        "\n",
        "silhouette = evaluador.evaluate(df_clusterizado)\n",
        "print(f\"📊 Silhouette Score: {silhouette:.4f}\")\n",
        "\n",
        "# Ejemplos de los clusters\n",
        "df_clusterizado.select(\"Close\", \"cluster\").groupBy(\"cluster\").agg({\"Close\": \"avg\", \"*\": \"count\"}).show()"
      ],
      "metadata": {
        "colab": {
          "base_uri": "https://localhost:8080/"
        },
        "id": "eJaJ6XkP3GxR",
        "outputId": "e8d11767-0bb1-4b39-ee60-910f2b74f865"
      },
      "execution_count": 62,
      "outputs": [
        {
          "output_type": "stream",
          "name": "stdout",
          "text": [
            "📊 Silhouette Score: 0.8830\n",
            "+-------+-------------------+--------+\n",
            "|cluster|         avg(Close)|count(1)|\n",
            "+-------+-------------------+--------+\n",
            "|      1|0.27891702271209884|      26|\n",
            "|      2| 3.0316706673807596|      42|\n",
            "|      0|  7.151068952472674|     225|\n",
            "+-------+-------------------+--------+\n",
            "\n"
          ]
        }
      ]
    },
    {
      "cell_type": "markdown",
      "source": [
        "Valores por encima del .70 son aceptables, por lo que el modelo excede expectativas. En este caso, agrupa por acciones con precios altos, medios y bajos de manera autónoma (al no ser supervisado) y vemos que la gran mayoría están en niveles altos, lo que refuerza nuestra teoría en el aprendizaje supervisado de que una diferencia de 33 centavos no es tanta, ya que la mayoría de los datos presentan variaciones en precios más grandes, lo que hace que las predicciones sean adecuadas para la toma de decisiones de compra y/o venta."
      ],
      "metadata": {
        "id": "kShEmLa06wLz"
      }
    },
    {
      "cell_type": "markdown",
      "source": [
        "# Conclusiones\n",
        "\n",
        "El lograr hacer particionamientos es clave para poder trabajar la información en modelos que no excedan la capacidad de cómputo. En esta actividad, dado que en previas entregas ya habíamos limpiado los datos desde el inicio, quise mantener el esquema, y me pude dar cuenta del beneficio al minimizar la cantidad de información con muestreos estratificados.\n",
        "\n",
        "En este caso, puedo decir que el procesamiento previo a mi dataframe muestreado tardó mucho más que los propios modelos debido a la cantidad de información. Tal vez huniera sido mucho más fácil generar el particionamiento antes y posterior al dataframe final, la limpieza; sin embargo, parte de la lógica en actividades pasadas fue mantener proporciones de tickers con datos realmente relevantes. Si lo hubiéramos hecho al revés, probablemente las probabilidades estarían sesgadas por datos nulos u outliers que realmente no aportan información relevante.\n",
        "\n",
        "También, probar diferentes modelos ayuda a mantener una perspectiva de qué tanto están funcionando los conjuntos de entrenamiento y prueba.\n",
        "\n",
        "Esta actividad ha sido muy valiosa para poder comprender cómo mantener la información relevante, en las proporciones adecuadas, pero con un volumen mucho menor que nos permita generar los mejores modelos sin necesidad de ocupar capacidades máximas."
      ],
      "metadata": {
        "id": "bJbC7j-X3o-a"
      }
    }
  ]
}