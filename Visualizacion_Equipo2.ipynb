{
  "nbformat": 4,
  "nbformat_minor": 0,
  "metadata": {
    "colab": {
      "provenance": [],
      "gpuType": "T4",
      "collapsed_sections": [
        "n4hC-syYgbPp"
      ]
    },
    "kernelspec": {
      "name": "python3",
      "display_name": "Python 3"
    },
    "language_info": {
      "name": "python"
    },
    "accelerator": "GPU"
  },
  "cells": [
    {
      "cell_type": "markdown",
      "source": [
        "# ACTIVIDAD 5 | VISUALIZACIÓN DE RESULTADOS\n",
        "\n",
        "ANÁLISIS DE GRANDES VOLÚMENES DE DATOS\n",
        "\n",
        "\n",
        "Miguel Ángel Loya Tarango A01796407\n",
        "\n",
        "Jorge Andrés Santos Gordon A01652587\n",
        "\n",
        "César Iván Herrera Martínez A01796392\n",
        "\n",
        "José María Blancas Ortiz A01363436"
      ],
      "metadata": {
        "id": "FHgwgfX5X0gL"
      }
    },
    {
      "cell_type": "markdown",
      "source": [
        "# Descarga de la base y obtención de df"
      ],
      "metadata": {
        "id": "W5Tvlg-fYn0P"
      }
    },
    {
      "cell_type": "code",
      "execution_count": null,
      "metadata": {
        "id": "9Euwcif1VRHY"
      },
      "outputs": [],
      "source": [
        "!pip install -q kaggle pyspark"
      ]
    },
    {
      "cell_type": "code",
      "source": [
        "from google.colab import files\n",
        "files.upload()"
      ],
      "metadata": {
        "colab": {
          "base_uri": "https://localhost:8080/",
          "height": 92
        },
        "id": "a-lV-W_-VScz",
        "outputId": "57b3e134-f1db-4529-d654-dc3796dae20e"
      },
      "execution_count": null,
      "outputs": [
        {
          "output_type": "display_data",
          "data": {
            "text/plain": [
              "<IPython.core.display.HTML object>"
            ],
            "text/html": [
              "\n",
              "     <input type=\"file\" id=\"files-535e4204-1579-42c8-b505-6da4066ce899\" name=\"files[]\" multiple disabled\n",
              "        style=\"border:none\" />\n",
              "     <output id=\"result-535e4204-1579-42c8-b505-6da4066ce899\">\n",
              "      Upload widget is only available when the cell has been executed in the\n",
              "      current browser session. Please rerun this cell to enable.\n",
              "      </output>\n",
              "      <script>// Copyright 2017 Google LLC\n",
              "//\n",
              "// Licensed under the Apache License, Version 2.0 (the \"License\");\n",
              "// you may not use this file except in compliance with the License.\n",
              "// You may obtain a copy of the License at\n",
              "//\n",
              "//      http://www.apache.org/licenses/LICENSE-2.0\n",
              "//\n",
              "// Unless required by applicable law or agreed to in writing, software\n",
              "// distributed under the License is distributed on an \"AS IS\" BASIS,\n",
              "// WITHOUT WARRANTIES OR CONDITIONS OF ANY KIND, either express or implied.\n",
              "// See the License for the specific language governing permissions and\n",
              "// limitations under the License.\n",
              "\n",
              "/**\n",
              " * @fileoverview Helpers for google.colab Python module.\n",
              " */\n",
              "(function(scope) {\n",
              "function span(text, styleAttributes = {}) {\n",
              "  const element = document.createElement('span');\n",
              "  element.textContent = text;\n",
              "  for (const key of Object.keys(styleAttributes)) {\n",
              "    element.style[key] = styleAttributes[key];\n",
              "  }\n",
              "  return element;\n",
              "}\n",
              "\n",
              "// Max number of bytes which will be uploaded at a time.\n",
              "const MAX_PAYLOAD_SIZE = 100 * 1024;\n",
              "\n",
              "function _uploadFiles(inputId, outputId) {\n",
              "  const steps = uploadFilesStep(inputId, outputId);\n",
              "  const outputElement = document.getElementById(outputId);\n",
              "  // Cache steps on the outputElement to make it available for the next call\n",
              "  // to uploadFilesContinue from Python.\n",
              "  outputElement.steps = steps;\n",
              "\n",
              "  return _uploadFilesContinue(outputId);\n",
              "}\n",
              "\n",
              "// This is roughly an async generator (not supported in the browser yet),\n",
              "// where there are multiple asynchronous steps and the Python side is going\n",
              "// to poll for completion of each step.\n",
              "// This uses a Promise to block the python side on completion of each step,\n",
              "// then passes the result of the previous step as the input to the next step.\n",
              "function _uploadFilesContinue(outputId) {\n",
              "  const outputElement = document.getElementById(outputId);\n",
              "  const steps = outputElement.steps;\n",
              "\n",
              "  const next = steps.next(outputElement.lastPromiseValue);\n",
              "  return Promise.resolve(next.value.promise).then((value) => {\n",
              "    // Cache the last promise value to make it available to the next\n",
              "    // step of the generator.\n",
              "    outputElement.lastPromiseValue = value;\n",
              "    return next.value.response;\n",
              "  });\n",
              "}\n",
              "\n",
              "/**\n",
              " * Generator function which is called between each async step of the upload\n",
              " * process.\n",
              " * @param {string} inputId Element ID of the input file picker element.\n",
              " * @param {string} outputId Element ID of the output display.\n",
              " * @return {!Iterable<!Object>} Iterable of next steps.\n",
              " */\n",
              "function* uploadFilesStep(inputId, outputId) {\n",
              "  const inputElement = document.getElementById(inputId);\n",
              "  inputElement.disabled = false;\n",
              "\n",
              "  const outputElement = document.getElementById(outputId);\n",
              "  outputElement.innerHTML = '';\n",
              "\n",
              "  const pickedPromise = new Promise((resolve) => {\n",
              "    inputElement.addEventListener('change', (e) => {\n",
              "      resolve(e.target.files);\n",
              "    });\n",
              "  });\n",
              "\n",
              "  const cancel = document.createElement('button');\n",
              "  inputElement.parentElement.appendChild(cancel);\n",
              "  cancel.textContent = 'Cancel upload';\n",
              "  const cancelPromise = new Promise((resolve) => {\n",
              "    cancel.onclick = () => {\n",
              "      resolve(null);\n",
              "    };\n",
              "  });\n",
              "\n",
              "  // Wait for the user to pick the files.\n",
              "  const files = yield {\n",
              "    promise: Promise.race([pickedPromise, cancelPromise]),\n",
              "    response: {\n",
              "      action: 'starting',\n",
              "    }\n",
              "  };\n",
              "\n",
              "  cancel.remove();\n",
              "\n",
              "  // Disable the input element since further picks are not allowed.\n",
              "  inputElement.disabled = true;\n",
              "\n",
              "  if (!files) {\n",
              "    return {\n",
              "      response: {\n",
              "        action: 'complete',\n",
              "      }\n",
              "    };\n",
              "  }\n",
              "\n",
              "  for (const file of files) {\n",
              "    const li = document.createElement('li');\n",
              "    li.append(span(file.name, {fontWeight: 'bold'}));\n",
              "    li.append(span(\n",
              "        `(${file.type || 'n/a'}) - ${file.size} bytes, ` +\n",
              "        `last modified: ${\n",
              "            file.lastModifiedDate ? file.lastModifiedDate.toLocaleDateString() :\n",
              "                                    'n/a'} - `));\n",
              "    const percent = span('0% done');\n",
              "    li.appendChild(percent);\n",
              "\n",
              "    outputElement.appendChild(li);\n",
              "\n",
              "    const fileDataPromise = new Promise((resolve) => {\n",
              "      const reader = new FileReader();\n",
              "      reader.onload = (e) => {\n",
              "        resolve(e.target.result);\n",
              "      };\n",
              "      reader.readAsArrayBuffer(file);\n",
              "    });\n",
              "    // Wait for the data to be ready.\n",
              "    let fileData = yield {\n",
              "      promise: fileDataPromise,\n",
              "      response: {\n",
              "        action: 'continue',\n",
              "      }\n",
              "    };\n",
              "\n",
              "    // Use a chunked sending to avoid message size limits. See b/62115660.\n",
              "    let position = 0;\n",
              "    do {\n",
              "      const length = Math.min(fileData.byteLength - position, MAX_PAYLOAD_SIZE);\n",
              "      const chunk = new Uint8Array(fileData, position, length);\n",
              "      position += length;\n",
              "\n",
              "      const base64 = btoa(String.fromCharCode.apply(null, chunk));\n",
              "      yield {\n",
              "        response: {\n",
              "          action: 'append',\n",
              "          file: file.name,\n",
              "          data: base64,\n",
              "        },\n",
              "      };\n",
              "\n",
              "      let percentDone = fileData.byteLength === 0 ?\n",
              "          100 :\n",
              "          Math.round((position / fileData.byteLength) * 100);\n",
              "      percent.textContent = `${percentDone}% done`;\n",
              "\n",
              "    } while (position < fileData.byteLength);\n",
              "  }\n",
              "\n",
              "  // All done.\n",
              "  yield {\n",
              "    response: {\n",
              "      action: 'complete',\n",
              "    }\n",
              "  };\n",
              "}\n",
              "\n",
              "scope.google = scope.google || {};\n",
              "scope.google.colab = scope.google.colab || {};\n",
              "scope.google.colab._files = {\n",
              "  _uploadFiles,\n",
              "  _uploadFilesContinue,\n",
              "};\n",
              "})(self);\n",
              "</script> "
            ]
          },
          "metadata": {}
        },
        {
          "output_type": "stream",
          "name": "stdout",
          "text": [
            "Saving kaggle.json to kaggle.json\n"
          ]
        },
        {
          "output_type": "execute_result",
          "data": {
            "text/plain": [
              "{'kaggle.json': b'{\"username\":\"jorgesantosgordon\",\"key\":\"6f4e8efece04cc5d84f1763b7e300f2c\"}'}"
            ]
          },
          "metadata": {},
          "execution_count": 2
        }
      ]
    },
    {
      "cell_type": "code",
      "source": [
        "from pyspark.sql.functions import col, round"
      ],
      "metadata": {
        "id": "05pRwd9VwHbV"
      },
      "execution_count": null,
      "outputs": []
    },
    {
      "cell_type": "code",
      "source": [
        "!mkdir -p ~/.kaggle\n",
        "!mv kaggle.json ~/.kaggle/\n",
        "!chmod 600 ~/.kaggle/kaggle.json"
      ],
      "metadata": {
        "id": "-gPXQ4YsVT0B"
      },
      "execution_count": null,
      "outputs": []
    },
    {
      "cell_type": "code",
      "source": [
        "!kaggle datasets download -d jakewright/9000-tickers-of-stock-market-data-full-history -p /content/dataset --unzip                 #Descarga de base de 9000 tickers del mercado de EU a través de kaggle"
      ],
      "metadata": {
        "colab": {
          "base_uri": "https://localhost:8080/"
        },
        "id": "e5iuY7ySVU_S",
        "outputId": "2b68ef8f-e73c-4a47-bc4d-cc24dc022171"
      },
      "execution_count": null,
      "outputs": [
        {
          "output_type": "stream",
          "name": "stdout",
          "text": [
            "Dataset URL: https://www.kaggle.com/datasets/jakewright/9000-tickers-of-stock-market-data-full-history\n",
            "License(s): other\n",
            "Downloading 9000-tickers-of-stock-market-data-full-history.zip to /content/dataset\n",
            " 99% 1.77G/1.79G [00:18<00:00, 228MB/s]\n",
            "100% 1.79G/1.79G [00:18<00:00, 103MB/s]\n"
          ]
        }
      ]
    },
    {
      "cell_type": "code",
      "source": [
        "from pyspark.sql import SparkSession\n",
        "\n",
        "spark = SparkSession.builder.appName(\"KaggleData\").getOrCreate()"
      ],
      "metadata": {
        "id": "1UA518ReVWYX"
      },
      "execution_count": null,
      "outputs": []
    },
    {
      "cell_type": "code",
      "source": [
        "df = spark.read.csv(\"/content/dataset/all_stock_data.csv\", header=True, inferSchema=True)\n",
        "df.show(5)"
      ],
      "metadata": {
        "colab": {
          "base_uri": "https://localhost:8080/"
        },
        "id": "jQYp87K0VYaS",
        "outputId": "4337aec2-90d6-478e-c118-96de76fd05bb"
      },
      "execution_count": null,
      "outputs": [
        {
          "output_type": "stream",
          "name": "stdout",
          "text": [
            "+----------+------+----+-------------------+-------------------+-------------------+---------+---------+------------+\n",
            "|      Date|Ticker|Open|               High|                Low|              Close|   Volume|Dividends|Stock Splits|\n",
            "+----------+------+----+-------------------+-------------------+-------------------+---------+---------+------------+\n",
            "|1962-01-02|    ED| 0.0| 0.2658275556233194|0.26178762316703796|0.26178762316703796|  25600.0|      0.0|         0.0|\n",
            "|1962-01-02|   CVX| 0.0|0.04680890217423439|0.04606926600933256|0.04680890217423439| 105840.0|      0.0|         0.0|\n",
            "|1962-01-02|    GD| 0.0|0.21003275954390174|0.20306070787008793| 0.2082897424697876|2648000.0|      0.0|         0.0|\n",
            "|1962-01-02|    BP| 0.0|0.14143933090345925|0.13952797651290894|0.13952797651290894|  77440.0|      0.0|         0.0|\n",
            "|1962-01-02|   MSI| 0.0| 0.7649229763450202| 0.7452535214492476| 0.7518101930618286|  65671.0|      0.0|         0.0|\n",
            "+----------+------+----+-------------------+-------------------+-------------------+---------+---------+------------+\n",
            "only showing top 5 rows\n",
            "\n"
          ]
        }
      ]
    },
    {
      "cell_type": "code",
      "source": [
        "df = df.na.drop(subset=[\"Close\", \"Volume\",\"Open\", \"High\", \"Low\", \"Dividends\", \"Stock Splits\"])                  #Eliminación de valores nulos en columnas relevantes"
      ],
      "metadata": {
        "id": "VxzaZPkBVZpc"
      },
      "execution_count": null,
      "outputs": []
    },
    {
      "cell_type": "code",
      "source": [
        "columnas = [\"Close\", \"Volume\"]                                                                                  #Columnas relevantes para análisis y estratificación\n",
        "qs = [0.25, 0.75]\n",
        "\n",
        "percentiles = {}\n",
        "for columna in columnas:\n",
        "    percentiles[columna] = df.approxQuantile(columna, qs, 0.01)"
      ],
      "metadata": {
        "id": "mOu6DrWRVcKr"
      },
      "execution_count": null,
      "outputs": []
    },
    {
      "cell_type": "code",
      "source": [
        "from pyspark.sql.functions import col, round, when, row_number\n",
        "\n",
        "Q1Close, Q3Close = percentiles[\"Close\"]\n",
        "IQRClose = Q3Close - Q1Close\n",
        "LowClose = Q1Close - 1.5 * IQRClose\n",
        "HighClose = Q3Close + 1.5 * IQRClose\n",
        "\n",
        "Q1Volume, Q3Volume = percentiles[\"Volume\"]\n",
        "IQRVolume = Q3Volume - Q1Volume\n",
        "LowVolume = Q1Volume - 1.5 * IQRVolume\n",
        "HighVolume = Q3Volume + 1.5 * IQRVolume\n",
        "\n",
        "nooutliersdf = df.filter((col(\"Close\") >= LowClose) & (col(\"Close\") <= HighClose) &(col(\"Volume\") >= LowVolume) & (col(\"Volume\") <= HighVolume))"
      ],
      "metadata": {
        "id": "q7XZNm-GVd8L"
      },
      "execution_count": null,
      "outputs": []
    },
    {
      "cell_type": "markdown",
      "source": [
        "**De acuerdo con la exploración realizada anteriormente, definimos los siguientes grupos de caracterización:**\n",
        "\n",
        "***Close***\n",
        "\n",
        "*   **C1: Valores menores a 5**\n",
        "*   **C2: Valores entre 5 y 25**\n",
        "*   **C3: Valores mayores a 25**\n",
        "\n",
        "***Volume***\n",
        "\n",
        "*   **V1: Valores mayores a 100,000**\n",
        "*   **V2: Valores menores a 100,000**\n",
        "\n",
        "**Con esto, generamos 6 particiones con las diferentes combinaciones:**\n",
        "\n",
        "*   **C1 y V1**\n",
        "*   **C1 y V2**\n",
        "*   **C2 y V1**\n",
        "*   **C2 y V2**\n",
        "*   **C3 y V1**\n",
        "*   **C3 y V2**\n",
        "\n",
        "**Para poder hacer una partición con base en estas categorías, agregamos una columna al dataframe que incluya el marcador al que combinación pertenece cada registro**"
      ],
      "metadata": {
        "id": "mHfvruFOdjJi"
      }
    },
    {
      "cell_type": "code",
      "source": [
        "dfStrata = nooutliersdf.withColumn(                                                                        #Creación de columna para estratificación por muestreo entre volumen y precio de cierre\n",
        "    \"strata\",\n",
        "    when((col(\"Close\")  < 5) & (col(\"Volume\") >=100000), \"C1V1\")\n",
        "    .when((col(\"Close\")  < 5) & (col(\"Volume\") < 100000), \"C1V2\")\n",
        "    .when(((col(\"Close\") >= 5) & (col(\"Close\") <= 25)) & (col(\"Volume\") >=100000), \"C2V1\")\n",
        "    .when(((col(\"Close\") >= 5) & (col(\"Close\") <= 25)) & (col(\"Volume\") < 100000), \"C2V2\")\n",
        "    .when((col(\"Close\") > 25) & (col(\"Volume\") >=100000), \"C3V1\")\n",
        "    .otherwise(\"C3V2\")\n",
        ")\n",
        "\n",
        "dfStrata.show()"
      ],
      "metadata": {
        "colab": {
          "base_uri": "https://localhost:8080/"
        },
        "id": "txs8gSqUVhqe",
        "outputId": "70b0055d-6dc2-4ed8-b74f-a3cbb214b1f1"
      },
      "execution_count": null,
      "outputs": [
        {
          "output_type": "stream",
          "name": "stdout",
          "text": [
            "+----------+------+-------------------+--------------------+--------------------+--------------------+--------+---------+------------+------+\n",
            "|      Date|Ticker|               Open|                High|                 Low|               Close|  Volume|Dividends|Stock Splits|strata|\n",
            "+----------+------+-------------------+--------------------+--------------------+--------------------+--------+---------+------------+------+\n",
            "|1962-01-02|    ED|                0.0|  0.2658275556233194| 0.26178762316703796| 0.26178762316703796| 25600.0|      0.0|         0.0|  C1V2|\n",
            "|1962-01-02|   CVX|                0.0| 0.04680890217423439| 0.04606926600933256| 0.04680890217423439|105840.0|      0.0|         0.0|  C1V1|\n",
            "|1962-01-02|    BP|                0.0| 0.14143933090345925| 0.13952797651290894| 0.13952797651290894| 77440.0|      0.0|         0.0|  C1V2|\n",
            "|1962-01-02|   MSI|                0.0|  0.7649229763450202|  0.7452535214492476|  0.7518101930618286| 65671.0|      0.0|         0.0|  C1V2|\n",
            "|1962-01-02|   HON|                0.0|  1.5596422972915405|   1.549127912225958|  1.5561375617980957| 40740.0|      0.0|         0.0|  C1V2|\n",
            "|1962-01-02|    FL|                0.0|  0.9722493028732154|  0.9538055893643659|  0.9590751528739929| 49200.0|      0.0|         0.0|  C1V2|\n",
            "|1962-01-02|    GT|                0.0|  1.9469001299879525|  1.9142705188708358|  1.9360235929489136| 32000.0|      0.0|         0.0|  C1V2|\n",
            "|1962-01-02|   JNJ|                0.0|  0.0677657350897789| 0.06741443839221611|  0.0677657350897789|     0.0|      0.0|         0.0|  C1V2|\n",
            "|1962-01-02|   MMM|                0.0|   0.541890852671279|  0.5259528842775644|  0.5299372673034668|254509.0|      0.0|         0.0|  C1V1|\n",
            "|1962-01-02|   DIS|0.05835945904254913|  0.0603180077410653| 0.05835945904254913| 0.05835945904254913|841958.0|      0.0|         0.0|  C1V1|\n",
            "|1962-01-02|   XRX|                0.0|  1.0117952124550889|  0.9992262318347459|  1.0055105686187744| 51233.0|      0.0|         0.0|  C1V2|\n",
            "|1962-01-02|    MO|                0.0| 0.00333833846261782|0.003293024608865...|0.003293024608865...|345600.0|      0.0|         0.0|  C1V1|\n",
            "|1962-01-02|   CNP|                0.0| 0.31389233720884596|  0.3115246295928955|  0.3115246295928955| 13879.0|      0.0|         0.0|  C1V2|\n",
            "|1962-01-02|    PG|                0.0|  0.2749725586034827| 0.27124668804133245| 0.27273714542388916|192000.0|      0.0|         0.0|  C1V1|\n",
            "|1962-01-02|    GE| 2.6095722714128895|  2.6530648102552266|  2.5834764822291847|  2.6008732318878174|432682.0|      0.0|         0.0|  C1V1|\n",
            "|1962-01-02|    AA|                0.0|  1.5505479006670275|  1.5417044162750244|  1.5417044162750244| 55930.0|      0.0|         0.0|  C1V2|\n",
            "|1962-01-02|    BA|0.19031055781074385| 0.19031055781074385| 0.18703724443912506| 0.18703724443912506|352350.0|      0.0|         0.0|  C1V1|\n",
            "|1962-01-02|   AEP|                0.0|  0.9997236014281031|    0.97659832239151|    0.97659832239151|  5800.0|      0.0|         0.0|  C1V2|\n",
            "|1962-01-02|    KR|                0.0|0.031310200378601695|0.030155323770468735| 0.03054029308259487|153600.0|      0.0|         0.0|  C1V1|\n",
            "|1962-01-02|   DTE|                0.0| 0.39185275952051335|  0.3878624141216278|  0.3878624141216278|  1880.0|      0.0|         0.0|  C1V2|\n",
            "+----------+------+-------------------+--------------------+--------------------+--------------------+--------+---------+------------+------+\n",
            "only showing top 20 rows\n",
            "\n"
          ]
        }
      ]
    },
    {
      "cell_type": "markdown",
      "source": [
        "# Construcción de k-folds\n",
        "\n",
        "Utilizamos la muestra estratificada que definimos en la actividad anterior y utilizamos sampleBy para mantener cierta representatividad en cada partición de la población original, haciendo que cada fold tenga una distribución similar al dataset total."
      ],
      "metadata": {
        "id": "Y2CFXfYpVCIv"
      }
    },
    {
      "cell_type": "code",
      "source": [
        "fractions = {\"C1V1\": 0.02, \"C1V2\": 0.02, \"C2V1\": 0.02, \"C2V2\": 0.02, \"C3V1\": 0.02, \"C3V2\": 0.02}                   #Fracciones para muestreo con distribución similar\n",
        "\n",
        "M = dfStrata.sampleBy(\"strata\", fractions=fractions, seed=42)\n",
        "M.show()"
      ],
      "metadata": {
        "colab": {
          "base_uri": "https://localhost:8080/"
        },
        "id": "KlLnSi9LWJq5",
        "outputId": "47054766-d7a9-4a5a-98aa-9c4f6ac05a5f"
      },
      "execution_count": null,
      "outputs": [
        {
          "output_type": "stream",
          "name": "stdout",
          "text": [
            "+----------+------+-------------------+--------------------+--------------------+--------------------+--------+---------+------------+------+\n",
            "|      Date|Ticker|               Open|                High|                 Low|               Close|  Volume|Dividends|Stock Splits|strata|\n",
            "+----------+------+-------------------+--------------------+--------------------+--------------------+--------+---------+------------+------+\n",
            "|1962-01-02|    BA|0.19031055781074385| 0.19031055781074385| 0.18703724443912506| 0.18703724443912506|352350.0|      0.0|         0.0|  C1V1|\n",
            "|1962-01-08|    KR|                0.0|0.030283647329133908|0.029257083012892083|0.030155334621667862|208000.0|      0.0|         0.0|  C1V1|\n",
            "|1962-01-08|   HPQ|0.04285311000598342|0.043499965220689774| 0.04204436372270773|0.043499965220689774|873754.0|      0.0|         0.0|  C1V1|\n",
            "|1962-01-11|   HON|                0.0|   1.556136827268702|  1.5351078884783917|  1.5526320934295654| 46751.0|      0.0|         0.0|  C1V2|\n",
            "|1962-01-11|   MSI|                0.0|  0.7233991462091779|  0.7168424714558461|  0.7190281748771667| 47761.0|      0.0|         0.0|  C1V2|\n",
            "|1962-01-15|    IP|                0.0|  0.8398185718554836|  0.8127276081086094|  0.8217579126358032| 81260.0|      0.0|         0.0|  C1V2|\n",
            "|1962-01-15|   JNJ|                0.0| 0.06548321031562064| 0.06495656818151474| 0.06495656818151474|129600.0|      0.0|         0.0|  C1V1|\n",
            "|1962-01-18|    GT|                0.0|  1.8218178511386192|   1.729367393021137|  1.8000648021697998| 56000.0|      0.0|         0.0|  C1V2|\n",
            "|1962-01-18|    ED|                0.0| 0.25774760714060146|  0.2553236484527588|  0.2553236484527588| 37600.0|      0.0|         0.0|  C1V2|\n",
            "|1962-01-23|    GD|                0.0|  0.2309489214212244|  0.2257198859135732| 0.22833441197872162|324000.0|      0.0|         0.0|  C1V1|\n",
            "|1962-01-29|    FL|                0.0|  0.8984163061371896|  0.8811646699905397|  0.8811646699905396| 30000.0|  0.05208|         0.0|  C1V2|\n",
            "|1962-02-02|   IBM| 1.5090349680480528|  1.5185601711273193|  1.5022314697122716|  1.5185601711273193|533460.0|      0.0|         0.0|  C1V1|\n",
            "|1962-02-07|   CAT|0.14196865194910935|  0.1428213425466381| 0.14026334881782532| 0.14026334881782532|122400.0|      0.0|         0.0|  C1V1|\n",
            "|1962-02-08|   CVX|                0.0|0.049588391994635335| 0.04937510937452316| 0.04937510937452316| 87360.0|      0.0|         0.0|  C1V2|\n",
            "|1962-02-12|   AEP|                0.0|  0.9801558518409729|  0.9765981173515319|  0.9783769845962524|  1400.0|      0.0|         0.0|  C1V2|\n",
            "|1962-02-14|    BP|                0.0| 0.15035889613113354| 0.14940331876277924| 0.14940331876277924| 38720.0|      0.0|         0.0|  C1V2|\n",
            "|1962-02-21|    MO|                0.0|0.003126872515504971|0.003081541042774...|0.003081541042774...|691200.0|      0.0|         0.0|  C1V1|\n",
            "|1962-02-26|   MSI|                0.0|  0.7124710083007812|  0.7102858041143548|  0.7124710083007812| 41791.0|      0.0|         0.0|  C1V2|\n",
            "|1962-03-05|    IP|                0.0|  0.8947409961443473|   0.882608950138092|   0.882608950138092| 58105.0|      0.0|         0.0|  C1V2|\n",
            "|1962-03-05|   MSI|                0.0|  0.7255842089653016|  0.7190280332299589|  0.7255842089653015| 23880.0|      0.0|         0.0|  C1V2|\n",
            "+----------+------+-------------------+--------------------+--------------------+--------------------+--------+---------+------------+------+\n",
            "only showing top 20 rows\n",
            "\n"
          ]
        }
      ]
    },
    {
      "cell_type": "code",
      "source": [
        "from pyspark.ml.feature import VectorAssembler\n",
        "from pyspark.ml.regression import LinearRegression\n",
        "from pyspark.sql.window import Window\n",
        "\n",
        "import numpy as np\n",
        "\n",
        "assemblerM = VectorAssembler(inputCols=[\"Open\", \"High\", \"Low\"], outputCol=\"features\")\n",
        "processedM = assemblerM.transform(M).select(\"features\", \"Close\", \"strata\")"
      ],
      "metadata": {
        "id": "BMw9C7Q-drOP"
      },
      "execution_count": null,
      "outputs": []
    },
    {
      "cell_type": "code",
      "source": [
        "from pyspark.sql.functions import rand\n",
        "\n",
        "k = 5\n",
        "w = Window.partitionBy(\"strata\").orderBy(rand())\n",
        "Mindex = processedM.withColumn(\"NumCol\", row_number().over(w))\n",
        "Mindex.show()"
      ],
      "metadata": {
        "colab": {
          "base_uri": "https://localhost:8080/"
        },
        "id": "Hrhs7cwfvTlD",
        "outputId": "519c4f09-5e83-4f42-bf49-89405aa24a45"
      },
      "execution_count": null,
      "outputs": [
        {
          "output_type": "stream",
          "name": "stdout",
          "text": [
            "+--------------------+------------------+------+------+\n",
            "|            features|             Close|strata|NumCol|\n",
            "+--------------------+------------------+------+------+\n",
            "|[11.6099996566772...|12.399999618530273|  C2V1|     1|\n",
            "|[22.25,22.5900001...|22.229999542236328|  C2V1|     2|\n",
            "|[23.1017093658447...|23.101709365844727|  C2V1|     3|\n",
            "|[22.2900009155273...|23.329999923706055|  C2V1|     4|\n",
            "|[15.7600002288818...|15.789999961853027|  C2V1|     5|\n",
            "|[17.8899993896484...|18.280000686645508|  C2V1|     6|\n",
            "|[17.3790626525878...| 17.37906265258789|  C2V1|     7|\n",
            "|[16.4899997711181...|16.639999389648438|  C2V1|     8|\n",
            "|[9.27000045776367...| 9.149999618530273|  C2V1|     9|\n",
            "|[17.0162804334780...|17.157577514648438|  C2V1|    10|\n",
            "|[18.0599994659423...| 18.40999984741211|  C2V1|    11|\n",
            "|[6.63000011444091...| 6.480000019073486|  C2V1|    12|\n",
            "|[15.0,16.35000038...|16.299999237060547|  C2V1|    13|\n",
            "|[19.2692823335917...|19.659143447875977|  C2V1|    14|\n",
            "|[23.7296287267178...|23.788291931152344|  C2V1|    15|\n",
            "|[11.3076745402220...|11.238567352294922|  C2V1|    16|\n",
            "|[13.8800001144409...|  14.8100004196167|  C2V1|    17|\n",
            "|[5.84999990463256...| 5.579999923706055|  C2V1|    18|\n",
            "|[11.4125127792358...| 11.41251277923584|  C2V1|    19|\n",
            "|[9.48630273247647...| 9.445236206054688|  C2V1|    20|\n",
            "+--------------------+------------------+------+------+\n",
            "only showing top 20 rows\n",
            "\n"
          ]
        }
      ]
    },
    {
      "cell_type": "markdown",
      "source": [
        "# Definición de proceso de validación cruzada\n",
        "\n",
        "Seleccionamos un valor de k para generar equilibrio entre la representatividad y el esfuerzo compitacional.\n",
        "\n",
        "La columna fold se genera asignando a cada registro un fold de manera balanceada y eso garantiza que cada fold sea representativo de la población original estratificada (que fue el método que planteamos desde el inicio)\n",
        "\n",
        "En este caso, utilizamos un valor de k=5 para la validación cruzada, ya que permite generar conjuntos de train y test con una relación de 80% - 20%, similar al que se utilizó en las actividades anteriores.\n",
        "\n",
        "Aunque la muestra sea una fracción de todo el data set, sigue siendo un conjunto grande, por lo que valores altos de k implican un costo computacional muy alto. El k=5 ofrece un balance entre validación robusta y desempeño del sistema.\n",
        "\n",
        "El valor de 5 es utilizado de manera estándar en análisis de datos, y es suficiente para capturar la variabilidad de los datos, y detectar si en alguna iteración el modelo se está sobre o subajustando a los mismos.\n",
        "\n",
        "Estos puntos nos permitirán obtener un buen panorama del desempeño del modelo, sin sesgarlo a cierto sector de los datos."
      ],
      "metadata": {
        "id": "92qF5c-FUIEA"
      }
    },
    {
      "cell_type": "code",
      "source": [
        "Mfolds = Mindex.withColumn(\"Fold\", (col(\"NumCol\") % k).cast(\"int\"))\n",
        "Mfolds.show()"
      ],
      "metadata": {
        "colab": {
          "base_uri": "https://localhost:8080/"
        },
        "id": "sFeWGuYC0dkO",
        "outputId": "549a6ac6-4836-412e-ebef-0d8bc5a3c55c"
      },
      "execution_count": null,
      "outputs": [
        {
          "output_type": "stream",
          "name": "stdout",
          "text": [
            "+--------------------+------------------+------+------+----+\n",
            "|            features|             Close|strata|NumCol|Fold|\n",
            "+--------------------+------------------+------+------+----+\n",
            "|[11.6099996566772...|12.399999618530273|  C2V1|     1|   1|\n",
            "|[22.25,22.5900001...|22.229999542236328|  C2V1|     2|   2|\n",
            "|[23.1017093658447...|23.101709365844727|  C2V1|     3|   3|\n",
            "|[22.2900009155273...|23.329999923706055|  C2V1|     4|   4|\n",
            "|[15.7600002288818...|15.789999961853027|  C2V1|     5|   0|\n",
            "|[17.8899993896484...|18.280000686645508|  C2V1|     6|   1|\n",
            "|[17.3790626525878...| 17.37906265258789|  C2V1|     7|   2|\n",
            "|[16.4899997711181...|16.639999389648438|  C2V1|     8|   3|\n",
            "|[9.27000045776367...| 9.149999618530273|  C2V1|     9|   4|\n",
            "|[17.0162804334780...|17.157577514648438|  C2V1|    10|   0|\n",
            "|[18.0599994659423...| 18.40999984741211|  C2V1|    11|   1|\n",
            "|[6.63000011444091...| 6.480000019073486|  C2V1|    12|   2|\n",
            "|[15.0,16.35000038...|16.299999237060547|  C2V1|    13|   3|\n",
            "|[19.2692823335917...|19.659143447875977|  C2V1|    14|   4|\n",
            "|[23.7296287267178...|23.788291931152344|  C2V1|    15|   0|\n",
            "|[11.3076745402220...|11.238567352294922|  C2V1|    16|   1|\n",
            "|[13.8800001144409...|  14.8100004196167|  C2V1|    17|   2|\n",
            "|[5.84999990463256...| 5.579999923706055|  C2V1|    18|   3|\n",
            "|[11.4125127792358...| 11.41251277923584|  C2V1|    19|   4|\n",
            "|[9.48630273247647...| 9.445236206054688|  C2V1|    20|   0|\n",
            "+--------------------+------------------+------+------+----+\n",
            "only showing top 20 rows\n",
            "\n"
          ]
        }
      ]
    },
    {
      "cell_type": "markdown",
      "source": [
        "# Fase de entrenamiento\n",
        "\n",
        "Se utiliza un loop de entrenamiento para cada fold. Seleccionamos un modelo de regresión lineal (de PySpark MLlib), que fue el algoritmo seleccionado en la Actividad 4 por su capacidad para modelar relaciones lineales entre las variables y el precio de cierre (Close).\n",
        "\n",
        "En cada iteración del proceso de validación cruzada k-fold, el modelo fue entrenado con los k-1 folds restantes, y evaluado con el fold correspondiente.\n",
        "Las métricas de calidad del modelo se registraron a partir de la raíz cuadrada del error cuadrático medio (RMSE) y el coeficiente de determinación (R²), siguiendo las métricas seleccionadas en la actividad 4, para evaluar la capacidad de generalización del modelo."
      ],
      "metadata": {
        "id": "ce0z3GkDVo0e"
      }
    },
    {
      "cell_type": "code",
      "source": [
        "rmse_results = []\n",
        "r2_results = []\n",
        "\n",
        "for i in range(k):\n",
        "    print(f\"Fold {i+1}/{k}\")\n",
        "\n",
        "    train = Mfolds.filter(col(\"Fold\") != i).select(\"features\", \"Close\")                                    #Target para predicción de la variable close\n",
        "    test = Mfolds.filter(col(\"fold\") == i).select(\"features\", \"Close\")\n",
        "\n",
        "    lr = LinearRegression(featuresCol=\"features\", labelCol=\"Close\",\n",
        "      maxIter=100,\n",
        "      regParam=0.1,\n",
        "      elasticNetParam=0.0,\n",
        "      tol=1e-6,\n",
        "      fitIntercept=True)\n",
        "\n",
        "    lr_model = lr.fit(train)\n",
        "\n",
        "    predictions = lr_model.transform(test)\n",
        "    evaluator = lr_model.evaluate(test)\n",
        "\n",
        "    rmse = evaluator.rootMeanSquaredError\n",
        "    r2 = evaluator.r2\n",
        "    print(\"RMSE:\", rmse)\n",
        "    print(\"R²:\", r2)\n",
        "\n",
        "    rmse_results.append(rmse)\n",
        "    r2_results.append(r2)"
      ],
      "metadata": {
        "colab": {
          "base_uri": "https://localhost:8080/"
        },
        "id": "rFTmOlTGw6ln",
        "outputId": "0eb8b672-f4a1-4af6-e2e4-812c3573a22a"
      },
      "execution_count": null,
      "outputs": [
        {
          "output_type": "stream",
          "name": "stdout",
          "text": [
            "Fold 1/5\n",
            "RMSE: 1.110879271189774\n",
            "R²: 0.9932871655355995\n",
            "Fold 2/5\n",
            "RMSE: 0.4305509104812057\n",
            "R²: 0.999012518657911\n",
            "Fold 3/5\n",
            "RMSE: 0.5476430740571192\n",
            "R²: 0.9983944965299862\n",
            "Fold 4/5\n",
            "RMSE: 0.4375351968688621\n",
            "R²: 0.9989713841570425\n",
            "Fold 5/5\n",
            "RMSE: 0.627414390679048\n",
            "R²: 0.997874824410057\n"
          ]
        }
      ]
    },
    {
      "cell_type": "code",
      "source": [
        "rmse_avg = np.mean(rmse_results)\n",
        "r2_avg = np.mean(r2_results)\n",
        "rmse_std = np.std(rmse_results)\n",
        "r2_std = np.std(r2_results)\n",
        "\n",
        "print(\"Resultados Finales (K-Fold Estratificado por '{}')\".format(\"strata\"))\n",
        "print(\"Promedio RMSE:\", rmse_avg)\n",
        "print(\"Desviación Estándar RMSE:\", rmse_std)\n",
        "print(\"Promedio R²:\", r2_avg)\n",
        "print(\"Desviación Estándar R²:\", r2_std)"
      ],
      "metadata": {
        "colab": {
          "base_uri": "https://localhost:8080/"
        },
        "id": "RmtnoHDMxvKM",
        "outputId": "d2e7c620-fbc6-4d93-b74e-9ad58007505e"
      },
      "execution_count": null,
      "outputs": [
        {
          "output_type": "stream",
          "name": "stdout",
          "text": [
            "Resultados Finales (K-Fold Estratificado por 'strata')\n",
            "Promedio RMSE: 0.6308045686552018\n",
            "Desviación Estándar RMSE: 0.25093968406248895\n",
            "Promedio R²: 0.9975080778581192\n",
            "Desviación Estándar R²: 0.0021513228197617474\n"
          ]
        }
      ]
    },
    {
      "cell_type": "markdown",
      "source": [
        "# Visualización de resultados\n",
        "\n",
        "La gráfica resultante logró demostrar el comportamiento de las métricas de desempeño (RMSE y R²) para cada uno de los 5 folds utilizados en el proceso de validación cruzada.\n",
        "\n",
        "El modelo presenta una R² alta, lo que nos indica que es capaz de explicar casi toda la variabilidad de la variable 'Close'.\n",
        "El RMSE muestra cierta variabilidad entre folds, pero indica un buen desempeño al momento de predecir.\n",
        "El desempeño de los folds se ve homologado, lo que sugiere que la partición de los folds fue adecuada ya que es representativa."
      ],
      "metadata": {
        "id": "wtjTRpj0WgxC"
      }
    },
    {
      "cell_type": "code",
      "source": [
        "import matplotlib.pyplot as plt\n",
        "\n",
        "plt.plot(range(1, k+1), rmse_results, marker='o', label='RMSE')\n",
        "plt.plot(range(1, k+1), r2_results, marker='x', label='R²')\n",
        "plt.title(\"Resultados por Fold\")\n",
        "plt.xlabel(\"Fold\")\n",
        "plt.ylabel(\"Métrica\")\n",
        "plt.legend()\n",
        "plt.grid(True)\n",
        "plt.show()\n",
        "\n",
        "print(\"RMSE promedio:\", sum(rmse_results)/k)\n",
        "print(\"R² promedio:\", sum(r2_results)/k)"
      ],
      "metadata": {
        "colab": {
          "base_uri": "https://localhost:8080/",
          "height": 508
        },
        "id": "IOXQDSVZx8IY",
        "outputId": "0a6ba326-6eeb-44df-9295-d8cab0560177"
      },
      "execution_count": null,
      "outputs": [
        {
          "output_type": "display_data",
          "data": {
            "text/plain": [
              "<Figure size 640x480 with 1 Axes>"
            ],
            "image/png": "[encoded data removed]"
          },
          "metadata": {}
        },
        {
          "output_type": "stream",
          "name": "stdout",
          "text": [
            "RMSE promedio: 0.6308045686552018\n",
            "R² promedio: 0.9975080778581192\n"
          ]
        }
      ]
    },
    {
      "cell_type": "markdown",
      "source": [
        "# Discusión y conclusiones\n",
        "\n",
        "En esta actividad se implementó un proceso de validación cruzada k-fold para evaluar la eficiencia del modelo entrenado en un contexto de big data. El muestreo estratificado nos permitió hacer que los folds fueran representativos de la población original, asegurando así una evaluación correcta.\n",
        "\n",
        "Se utilizó un k=5, ya que buscamos un equilibrio entre el rendimiento y la necesidad de capturar la variabilidad del modelo. Los resultados mostraron una baja variabilidad en las métricas (RMSE y R²), lo cual sugiere que el modelo de regresión lineal tiene una buena capacidad de generalización en este escenario. Es importante destacar que aunque los folds se generaron tomando como base la caracterización de los daots, sigue habiendo rangos y variabilidad dentro de los mismos, por lo que se espera que las métricas tengan fluctuaciones entre iteraciones del modelo.\n",
        "\n",
        "El poder ver cómo se genera consistencia entre folds hace que en esta actividad logremos ver de manera contundente cómo el generar submuestreos o muestras acotadas, realmente nos lleva a resultados certeros sin necesidad de extraer toda la información al momento de entrenar nuestros modelos.\n",
        "\n",
        "El uso de PySpark fue clave para manejar el volumen de datos de forma eficiente, permitiendo que el proceso de validación cruzada fuera viable sin comprometer recursos. En general, ahora sabemos que, con las herramientas adecuadas, la validación cruzada es una técnica bastante útil para Big Data, dándonos la seguridad necesaria para poder escalar los modelos en el momento en que se requiera.\n",
        "\n"
      ],
      "metadata": {
        "id": "5xIIik2_Y7MS"
      }
    }
  ]
}